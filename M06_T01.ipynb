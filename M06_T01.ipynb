{
 "cells": [
  {
   "cell_type": "code",
   "execution_count": 1,
   "id": "f9a056cf",
   "metadata": {},
   "outputs": [],
   "source": [
    "import pandas as pd\n",
    "import numpy as np\n",
    "import seaborn as sns\n",
    "import matplotlib.pyplot as plt\n",
    "from matplotlib import style\n",
    "import matplotlib.ticker as ticker\n",
    "from scipy import stats\n",
    "from sklearn.linear_model import LinearRegression\n",
    "from sklearn.tree import DecisionTreeRegressor\n",
    "from sklearn.preprocessing import PolynomialFeatures\n",
    "from sklearn.preprocessing import MinMaxScaler\n",
    "from sklearn.model_selection import train_test_split\n",
    "from sklearn.model_selection import GridSearchCV\n",
    "from sklearn.model_selection import cross_val_score\n",
    "from sklearn.metrics import mean_squared_error,r2_score\n"
   ]
  },
  {
   "cell_type": "code",
   "execution_count": 2,
   "id": "505f0ede",
   "metadata": {},
   "outputs": [],
   "source": [
    "Housing=pd.read_csv('housing data.csv',names=['CRIM','ZN','INDUS','CHAS','NOX','RM','AGE','DIS','RAD','TAX','PTRATIO','B','LSTAT','MEDV'])"
   ]
  },
  {
   "cell_type": "markdown",
   "id": "431f54b2",
   "metadata": {},
   "source": [
    "## DIVISIÓN TRAIN/TEST Y PREPROCESSING (M05_T02)"
   ]
  },
  {
   "cell_type": "code",
   "execution_count": 3,
   "id": "da0b8174",
   "metadata": {},
   "outputs": [
    {
     "name": "stdout",
     "output_type": "stream",
     "text": [
      "<class 'pandas.core.frame.DataFrame'>\n",
      "RangeIndex: 506 entries, 0 to 505\n",
      "Data columns (total 14 columns):\n",
      " #   Column   Non-Null Count  Dtype  \n",
      "---  ------   --------------  -----  \n",
      " 0   CRIM     506 non-null    float64\n",
      " 1   ZN       506 non-null    float64\n",
      " 2   INDUS    506 non-null    float64\n",
      " 3   CHAS     506 non-null    int64  \n",
      " 4   NOX      506 non-null    float64\n",
      " 5   RM       506 non-null    float64\n",
      " 6   AGE      506 non-null    float64\n",
      " 7   DIS      506 non-null    float64\n",
      " 8   RAD      506 non-null    int64  \n",
      " 9   TAX      506 non-null    float64\n",
      " 10  PTRATIO  506 non-null    float64\n",
      " 11  B        506 non-null    float64\n",
      " 12  LSTAT    506 non-null    float64\n",
      " 13  MEDV     506 non-null    float64\n",
      "dtypes: float64(12), int64(2)\n",
      "memory usage: 55.5 KB\n"
     ]
    }
   ],
   "source": [
    "Housing.info()"
   ]
  },
  {
   "cell_type": "code",
   "execution_count": 4,
   "id": "bdde4cf4",
   "metadata": {},
   "outputs": [
    {
     "data": {
      "text/html": [
       "<div>\n",
       "<style scoped>\n",
       "    .dataframe tbody tr th:only-of-type {\n",
       "        vertical-align: middle;\n",
       "    }\n",
       "\n",
       "    .dataframe tbody tr th {\n",
       "        vertical-align: top;\n",
       "    }\n",
       "\n",
       "    .dataframe thead th {\n",
       "        text-align: right;\n",
       "    }\n",
       "</style>\n",
       "<table border=\"1\" class=\"dataframe\">\n",
       "  <thead>\n",
       "    <tr style=\"text-align: right;\">\n",
       "      <th></th>\n",
       "      <th>CRIM</th>\n",
       "      <th>ZN</th>\n",
       "      <th>INDUS</th>\n",
       "      <th>CHAS</th>\n",
       "      <th>NOX</th>\n",
       "      <th>RM</th>\n",
       "      <th>AGE</th>\n",
       "      <th>DIS</th>\n",
       "      <th>RAD</th>\n",
       "      <th>TAX</th>\n",
       "      <th>PTRATIO</th>\n",
       "      <th>B</th>\n",
       "      <th>LSTAT</th>\n",
       "      <th>MEDV</th>\n",
       "    </tr>\n",
       "  </thead>\n",
       "  <tbody>\n",
       "    <tr>\n",
       "      <th>0</th>\n",
       "      <td>0.00632</td>\n",
       "      <td>18.0</td>\n",
       "      <td>2.31</td>\n",
       "      <td>0</td>\n",
       "      <td>0.538</td>\n",
       "      <td>6.575</td>\n",
       "      <td>65.2</td>\n",
       "      <td>4.0900</td>\n",
       "      <td>1</td>\n",
       "      <td>296.0</td>\n",
       "      <td>15.3</td>\n",
       "      <td>396.90</td>\n",
       "      <td>4.98</td>\n",
       "      <td>24.0</td>\n",
       "    </tr>\n",
       "    <tr>\n",
       "      <th>1</th>\n",
       "      <td>0.02731</td>\n",
       "      <td>0.0</td>\n",
       "      <td>7.07</td>\n",
       "      <td>0</td>\n",
       "      <td>0.469</td>\n",
       "      <td>6.421</td>\n",
       "      <td>78.9</td>\n",
       "      <td>4.9671</td>\n",
       "      <td>2</td>\n",
       "      <td>242.0</td>\n",
       "      <td>17.8</td>\n",
       "      <td>396.90</td>\n",
       "      <td>9.14</td>\n",
       "      <td>21.6</td>\n",
       "    </tr>\n",
       "    <tr>\n",
       "      <th>2</th>\n",
       "      <td>0.02729</td>\n",
       "      <td>0.0</td>\n",
       "      <td>7.07</td>\n",
       "      <td>0</td>\n",
       "      <td>0.469</td>\n",
       "      <td>7.185</td>\n",
       "      <td>61.1</td>\n",
       "      <td>4.9671</td>\n",
       "      <td>2</td>\n",
       "      <td>242.0</td>\n",
       "      <td>17.8</td>\n",
       "      <td>392.83</td>\n",
       "      <td>4.03</td>\n",
       "      <td>34.7</td>\n",
       "    </tr>\n",
       "    <tr>\n",
       "      <th>3</th>\n",
       "      <td>0.03237</td>\n",
       "      <td>0.0</td>\n",
       "      <td>2.18</td>\n",
       "      <td>0</td>\n",
       "      <td>0.458</td>\n",
       "      <td>6.998</td>\n",
       "      <td>45.8</td>\n",
       "      <td>6.0622</td>\n",
       "      <td>3</td>\n",
       "      <td>222.0</td>\n",
       "      <td>18.7</td>\n",
       "      <td>394.63</td>\n",
       "      <td>2.94</td>\n",
       "      <td>33.4</td>\n",
       "    </tr>\n",
       "    <tr>\n",
       "      <th>4</th>\n",
       "      <td>0.06905</td>\n",
       "      <td>0.0</td>\n",
       "      <td>2.18</td>\n",
       "      <td>0</td>\n",
       "      <td>0.458</td>\n",
       "      <td>7.147</td>\n",
       "      <td>54.2</td>\n",
       "      <td>6.0622</td>\n",
       "      <td>3</td>\n",
       "      <td>222.0</td>\n",
       "      <td>18.7</td>\n",
       "      <td>396.90</td>\n",
       "      <td>5.33</td>\n",
       "      <td>36.2</td>\n",
       "    </tr>\n",
       "  </tbody>\n",
       "</table>\n",
       "</div>"
      ],
      "text/plain": [
       "      CRIM    ZN  INDUS  CHAS    NOX     RM   AGE     DIS  RAD    TAX  \\\n",
       "0  0.00632  18.0   2.31     0  0.538  6.575  65.2  4.0900    1  296.0   \n",
       "1  0.02731   0.0   7.07     0  0.469  6.421  78.9  4.9671    2  242.0   \n",
       "2  0.02729   0.0   7.07     0  0.469  7.185  61.1  4.9671    2  242.0   \n",
       "3  0.03237   0.0   2.18     0  0.458  6.998  45.8  6.0622    3  222.0   \n",
       "4  0.06905   0.0   2.18     0  0.458  7.147  54.2  6.0622    3  222.0   \n",
       "\n",
       "   PTRATIO       B  LSTAT  MEDV  \n",
       "0     15.3  396.90   4.98  24.0  \n",
       "1     17.8  396.90   9.14  21.6  \n",
       "2     17.8  392.83   4.03  34.7  \n",
       "3     18.7  394.63   2.94  33.4  \n",
       "4     18.7  396.90   5.33  36.2  "
      ]
     },
     "execution_count": 4,
     "metadata": {},
     "output_type": "execute_result"
    }
   ],
   "source": [
    "Housing.head()"
   ]
  },
  {
   "cell_type": "code",
   "execution_count": 5,
   "id": "6a31b2c6",
   "metadata": {
    "scrolled": true
   },
   "outputs": [
    {
     "data": {
      "text/html": [
       "<div>\n",
       "<style scoped>\n",
       "    .dataframe tbody tr th:only-of-type {\n",
       "        vertical-align: middle;\n",
       "    }\n",
       "\n",
       "    .dataframe tbody tr th {\n",
       "        vertical-align: top;\n",
       "    }\n",
       "\n",
       "    .dataframe thead th {\n",
       "        text-align: right;\n",
       "    }\n",
       "</style>\n",
       "<table border=\"1\" class=\"dataframe\">\n",
       "  <thead>\n",
       "    <tr style=\"text-align: right;\">\n",
       "      <th></th>\n",
       "      <th>count</th>\n",
       "      <th>mean</th>\n",
       "      <th>std</th>\n",
       "      <th>min</th>\n",
       "      <th>25%</th>\n",
       "      <th>50%</th>\n",
       "      <th>75%</th>\n",
       "      <th>max</th>\n",
       "    </tr>\n",
       "  </thead>\n",
       "  <tbody>\n",
       "    <tr>\n",
       "      <th>CRIM</th>\n",
       "      <td>506.0</td>\n",
       "      <td>3.613524</td>\n",
       "      <td>8.601545</td>\n",
       "      <td>0.00632</td>\n",
       "      <td>0.082045</td>\n",
       "      <td>0.25651</td>\n",
       "      <td>3.677083</td>\n",
       "      <td>88.9762</td>\n",
       "    </tr>\n",
       "    <tr>\n",
       "      <th>ZN</th>\n",
       "      <td>506.0</td>\n",
       "      <td>11.363636</td>\n",
       "      <td>23.322453</td>\n",
       "      <td>0.00000</td>\n",
       "      <td>0.000000</td>\n",
       "      <td>0.00000</td>\n",
       "      <td>12.500000</td>\n",
       "      <td>100.0000</td>\n",
       "    </tr>\n",
       "    <tr>\n",
       "      <th>INDUS</th>\n",
       "      <td>506.0</td>\n",
       "      <td>11.136779</td>\n",
       "      <td>6.860353</td>\n",
       "      <td>0.46000</td>\n",
       "      <td>5.190000</td>\n",
       "      <td>9.69000</td>\n",
       "      <td>18.100000</td>\n",
       "      <td>27.7400</td>\n",
       "    </tr>\n",
       "    <tr>\n",
       "      <th>CHAS</th>\n",
       "      <td>506.0</td>\n",
       "      <td>0.069170</td>\n",
       "      <td>0.253994</td>\n",
       "      <td>0.00000</td>\n",
       "      <td>0.000000</td>\n",
       "      <td>0.00000</td>\n",
       "      <td>0.000000</td>\n",
       "      <td>1.0000</td>\n",
       "    </tr>\n",
       "    <tr>\n",
       "      <th>NOX</th>\n",
       "      <td>506.0</td>\n",
       "      <td>0.554695</td>\n",
       "      <td>0.115878</td>\n",
       "      <td>0.38500</td>\n",
       "      <td>0.449000</td>\n",
       "      <td>0.53800</td>\n",
       "      <td>0.624000</td>\n",
       "      <td>0.8710</td>\n",
       "    </tr>\n",
       "    <tr>\n",
       "      <th>RM</th>\n",
       "      <td>506.0</td>\n",
       "      <td>6.284634</td>\n",
       "      <td>0.702617</td>\n",
       "      <td>3.56100</td>\n",
       "      <td>5.885500</td>\n",
       "      <td>6.20850</td>\n",
       "      <td>6.623500</td>\n",
       "      <td>8.7800</td>\n",
       "    </tr>\n",
       "    <tr>\n",
       "      <th>AGE</th>\n",
       "      <td>506.0</td>\n",
       "      <td>68.574901</td>\n",
       "      <td>28.148861</td>\n",
       "      <td>2.90000</td>\n",
       "      <td>45.025000</td>\n",
       "      <td>77.50000</td>\n",
       "      <td>94.075000</td>\n",
       "      <td>100.0000</td>\n",
       "    </tr>\n",
       "    <tr>\n",
       "      <th>DIS</th>\n",
       "      <td>506.0</td>\n",
       "      <td>3.795043</td>\n",
       "      <td>2.105710</td>\n",
       "      <td>1.12960</td>\n",
       "      <td>2.100175</td>\n",
       "      <td>3.20745</td>\n",
       "      <td>5.188425</td>\n",
       "      <td>12.1265</td>\n",
       "    </tr>\n",
       "    <tr>\n",
       "      <th>RAD</th>\n",
       "      <td>506.0</td>\n",
       "      <td>9.549407</td>\n",
       "      <td>8.707259</td>\n",
       "      <td>1.00000</td>\n",
       "      <td>4.000000</td>\n",
       "      <td>5.00000</td>\n",
       "      <td>24.000000</td>\n",
       "      <td>24.0000</td>\n",
       "    </tr>\n",
       "    <tr>\n",
       "      <th>TAX</th>\n",
       "      <td>506.0</td>\n",
       "      <td>408.237154</td>\n",
       "      <td>168.537116</td>\n",
       "      <td>187.00000</td>\n",
       "      <td>279.000000</td>\n",
       "      <td>330.00000</td>\n",
       "      <td>666.000000</td>\n",
       "      <td>711.0000</td>\n",
       "    </tr>\n",
       "    <tr>\n",
       "      <th>PTRATIO</th>\n",
       "      <td>506.0</td>\n",
       "      <td>18.455534</td>\n",
       "      <td>2.164946</td>\n",
       "      <td>12.60000</td>\n",
       "      <td>17.400000</td>\n",
       "      <td>19.05000</td>\n",
       "      <td>20.200000</td>\n",
       "      <td>22.0000</td>\n",
       "    </tr>\n",
       "    <tr>\n",
       "      <th>B</th>\n",
       "      <td>506.0</td>\n",
       "      <td>356.674032</td>\n",
       "      <td>91.294864</td>\n",
       "      <td>0.32000</td>\n",
       "      <td>375.377500</td>\n",
       "      <td>391.44000</td>\n",
       "      <td>396.225000</td>\n",
       "      <td>396.9000</td>\n",
       "    </tr>\n",
       "    <tr>\n",
       "      <th>LSTAT</th>\n",
       "      <td>506.0</td>\n",
       "      <td>12.653063</td>\n",
       "      <td>7.141062</td>\n",
       "      <td>1.73000</td>\n",
       "      <td>6.950000</td>\n",
       "      <td>11.36000</td>\n",
       "      <td>16.955000</td>\n",
       "      <td>37.9700</td>\n",
       "    </tr>\n",
       "    <tr>\n",
       "      <th>MEDV</th>\n",
       "      <td>506.0</td>\n",
       "      <td>22.532806</td>\n",
       "      <td>9.197104</td>\n",
       "      <td>5.00000</td>\n",
       "      <td>17.025000</td>\n",
       "      <td>21.20000</td>\n",
       "      <td>25.000000</td>\n",
       "      <td>50.0000</td>\n",
       "    </tr>\n",
       "  </tbody>\n",
       "</table>\n",
       "</div>"
      ],
      "text/plain": [
       "         count        mean         std        min         25%        50%  \\\n",
       "CRIM     506.0    3.613524    8.601545    0.00632    0.082045    0.25651   \n",
       "ZN       506.0   11.363636   23.322453    0.00000    0.000000    0.00000   \n",
       "INDUS    506.0   11.136779    6.860353    0.46000    5.190000    9.69000   \n",
       "CHAS     506.0    0.069170    0.253994    0.00000    0.000000    0.00000   \n",
       "NOX      506.0    0.554695    0.115878    0.38500    0.449000    0.53800   \n",
       "RM       506.0    6.284634    0.702617    3.56100    5.885500    6.20850   \n",
       "AGE      506.0   68.574901   28.148861    2.90000   45.025000   77.50000   \n",
       "DIS      506.0    3.795043    2.105710    1.12960    2.100175    3.20745   \n",
       "RAD      506.0    9.549407    8.707259    1.00000    4.000000    5.00000   \n",
       "TAX      506.0  408.237154  168.537116  187.00000  279.000000  330.00000   \n",
       "PTRATIO  506.0   18.455534    2.164946   12.60000   17.400000   19.05000   \n",
       "B        506.0  356.674032   91.294864    0.32000  375.377500  391.44000   \n",
       "LSTAT    506.0   12.653063    7.141062    1.73000    6.950000   11.36000   \n",
       "MEDV     506.0   22.532806    9.197104    5.00000   17.025000   21.20000   \n",
       "\n",
       "                75%       max  \n",
       "CRIM       3.677083   88.9762  \n",
       "ZN        12.500000  100.0000  \n",
       "INDUS     18.100000   27.7400  \n",
       "CHAS       0.000000    1.0000  \n",
       "NOX        0.624000    0.8710  \n",
       "RM         6.623500    8.7800  \n",
       "AGE       94.075000  100.0000  \n",
       "DIS        5.188425   12.1265  \n",
       "RAD       24.000000   24.0000  \n",
       "TAX      666.000000  711.0000  \n",
       "PTRATIO   20.200000   22.0000  \n",
       "B        396.225000  396.9000  \n",
       "LSTAT     16.955000   37.9700  \n",
       "MEDV      25.000000   50.0000  "
      ]
     },
     "execution_count": 5,
     "metadata": {},
     "output_type": "execute_result"
    }
   ],
   "source": [
    "Housing.describe().T"
   ]
  },
  {
   "cell_type": "markdown",
   "id": "55b4fa4b",
   "metadata": {},
   "source": [
    "### División train y test"
   ]
  },
  {
   "cell_type": "code",
   "execution_count": 6,
   "id": "bd2e5f45",
   "metadata": {},
   "outputs": [],
   "source": [
    "X_train, X_test, y_train, y_test = train_test_split(\n",
    "                                        Housing.drop('MEDV', axis = 'columns'),\n",
    "                                        Housing['MEDV'],\n",
    "                                        train_size   = 0.8,\n",
    "                                        random_state = 1,\n",
    "                                        )"
   ]
  },
  {
   "cell_type": "code",
   "execution_count": 7,
   "id": "166c2aa4",
   "metadata": {},
   "outputs": [
    {
     "name": "stdout",
     "output_type": "stream",
     "text": [
      "(404, 13)\n",
      "(102, 13)\n",
      "(404,)\n",
      "(102,)\n"
     ]
    }
   ],
   "source": [
    "print(X_train.shape)\n",
    "print(X_test.shape)\n",
    "print(y_train.shape)\n",
    "print(y_test.shape)"
   ]
  },
  {
   "cell_type": "code",
   "execution_count": 8,
   "id": "b9dc037f",
   "metadata": {
    "scrolled": true
   },
   "outputs": [
    {
     "data": {
      "text/html": [
       "<div>\n",
       "<style scoped>\n",
       "    .dataframe tbody tr th:only-of-type {\n",
       "        vertical-align: middle;\n",
       "    }\n",
       "\n",
       "    .dataframe tbody tr th {\n",
       "        vertical-align: top;\n",
       "    }\n",
       "\n",
       "    .dataframe thead th {\n",
       "        text-align: right;\n",
       "    }\n",
       "</style>\n",
       "<table border=\"1\" class=\"dataframe\">\n",
       "  <thead>\n",
       "    <tr style=\"text-align: right;\">\n",
       "      <th></th>\n",
       "      <th>count</th>\n",
       "      <th>mean</th>\n",
       "      <th>std</th>\n",
       "      <th>min</th>\n",
       "      <th>25%</th>\n",
       "      <th>50%</th>\n",
       "      <th>75%</th>\n",
       "      <th>max</th>\n",
       "    </tr>\n",
       "  </thead>\n",
       "  <tbody>\n",
       "    <tr>\n",
       "      <th>CRIM</th>\n",
       "      <td>404.0</td>\n",
       "      <td>3.697455</td>\n",
       "      <td>9.146743</td>\n",
       "      <td>0.00632</td>\n",
       "      <td>0.082598</td>\n",
       "      <td>0.234405</td>\n",
       "      <td>3.594927</td>\n",
       "      <td>88.9762</td>\n",
       "    </tr>\n",
       "    <tr>\n",
       "      <th>ZN</th>\n",
       "      <td>404.0</td>\n",
       "      <td>11.527228</td>\n",
       "      <td>23.288284</td>\n",
       "      <td>0.00000</td>\n",
       "      <td>0.000000</td>\n",
       "      <td>0.000000</td>\n",
       "      <td>20.000000</td>\n",
       "      <td>100.0000</td>\n",
       "    </tr>\n",
       "    <tr>\n",
       "      <th>INDUS</th>\n",
       "      <td>404.0</td>\n",
       "      <td>11.077500</td>\n",
       "      <td>6.848412</td>\n",
       "      <td>0.46000</td>\n",
       "      <td>5.190000</td>\n",
       "      <td>9.125000</td>\n",
       "      <td>18.100000</td>\n",
       "      <td>27.7400</td>\n",
       "    </tr>\n",
       "    <tr>\n",
       "      <th>CHAS</th>\n",
       "      <td>404.0</td>\n",
       "      <td>0.079208</td>\n",
       "      <td>0.270398</td>\n",
       "      <td>0.00000</td>\n",
       "      <td>0.000000</td>\n",
       "      <td>0.000000</td>\n",
       "      <td>0.000000</td>\n",
       "      <td>1.0000</td>\n",
       "    </tr>\n",
       "    <tr>\n",
       "      <th>NOX</th>\n",
       "      <td>404.0</td>\n",
       "      <td>0.553026</td>\n",
       "      <td>0.116895</td>\n",
       "      <td>0.38500</td>\n",
       "      <td>0.448000</td>\n",
       "      <td>0.535000</td>\n",
       "      <td>0.624000</td>\n",
       "      <td>0.8710</td>\n",
       "    </tr>\n",
       "    <tr>\n",
       "      <th>RM</th>\n",
       "      <td>404.0</td>\n",
       "      <td>6.268792</td>\n",
       "      <td>0.689229</td>\n",
       "      <td>3.56100</td>\n",
       "      <td>5.876750</td>\n",
       "      <td>6.179000</td>\n",
       "      <td>6.626500</td>\n",
       "      <td>8.7800</td>\n",
       "    </tr>\n",
       "    <tr>\n",
       "      <th>AGE</th>\n",
       "      <td>404.0</td>\n",
       "      <td>67.935644</td>\n",
       "      <td>28.563186</td>\n",
       "      <td>2.90000</td>\n",
       "      <td>43.250000</td>\n",
       "      <td>76.800000</td>\n",
       "      <td>93.825000</td>\n",
       "      <td>100.0000</td>\n",
       "    </tr>\n",
       "    <tr>\n",
       "      <th>DIS</th>\n",
       "      <td>404.0</td>\n",
       "      <td>3.826111</td>\n",
       "      <td>2.120999</td>\n",
       "      <td>1.12960</td>\n",
       "      <td>2.105350</td>\n",
       "      <td>3.298600</td>\n",
       "      <td>5.141475</td>\n",
       "      <td>12.1265</td>\n",
       "    </tr>\n",
       "    <tr>\n",
       "      <th>RAD</th>\n",
       "      <td>404.0</td>\n",
       "      <td>9.470297</td>\n",
       "      <td>8.680237</td>\n",
       "      <td>1.00000</td>\n",
       "      <td>4.000000</td>\n",
       "      <td>5.000000</td>\n",
       "      <td>24.000000</td>\n",
       "      <td>24.0000</td>\n",
       "    </tr>\n",
       "    <tr>\n",
       "      <th>TAX</th>\n",
       "      <td>404.0</td>\n",
       "      <td>403.257426</td>\n",
       "      <td>169.030480</td>\n",
       "      <td>187.00000</td>\n",
       "      <td>277.000000</td>\n",
       "      <td>329.000000</td>\n",
       "      <td>666.000000</td>\n",
       "      <td>711.0000</td>\n",
       "    </tr>\n",
       "    <tr>\n",
       "      <th>PTRATIO</th>\n",
       "      <td>404.0</td>\n",
       "      <td>18.438614</td>\n",
       "      <td>2.169469</td>\n",
       "      <td>12.60000</td>\n",
       "      <td>17.225000</td>\n",
       "      <td>19.000000</td>\n",
       "      <td>20.200000</td>\n",
       "      <td>22.0000</td>\n",
       "    </tr>\n",
       "    <tr>\n",
       "      <th>B</th>\n",
       "      <td>404.0</td>\n",
       "      <td>357.153688</td>\n",
       "      <td>91.541647</td>\n",
       "      <td>0.32000</td>\n",
       "      <td>376.092500</td>\n",
       "      <td>391.575000</td>\n",
       "      <td>396.157500</td>\n",
       "      <td>396.9000</td>\n",
       "    </tr>\n",
       "    <tr>\n",
       "      <th>LSTAT</th>\n",
       "      <td>404.0</td>\n",
       "      <td>12.778540</td>\n",
       "      <td>7.216403</td>\n",
       "      <td>1.73000</td>\n",
       "      <td>7.092500</td>\n",
       "      <td>11.465000</td>\n",
       "      <td>17.102500</td>\n",
       "      <td>37.9700</td>\n",
       "    </tr>\n",
       "  </tbody>\n",
       "</table>\n",
       "</div>"
      ],
      "text/plain": [
       "         count        mean         std        min         25%         50%  \\\n",
       "CRIM     404.0    3.697455    9.146743    0.00632    0.082598    0.234405   \n",
       "ZN       404.0   11.527228   23.288284    0.00000    0.000000    0.000000   \n",
       "INDUS    404.0   11.077500    6.848412    0.46000    5.190000    9.125000   \n",
       "CHAS     404.0    0.079208    0.270398    0.00000    0.000000    0.000000   \n",
       "NOX      404.0    0.553026    0.116895    0.38500    0.448000    0.535000   \n",
       "RM       404.0    6.268792    0.689229    3.56100    5.876750    6.179000   \n",
       "AGE      404.0   67.935644   28.563186    2.90000   43.250000   76.800000   \n",
       "DIS      404.0    3.826111    2.120999    1.12960    2.105350    3.298600   \n",
       "RAD      404.0    9.470297    8.680237    1.00000    4.000000    5.000000   \n",
       "TAX      404.0  403.257426  169.030480  187.00000  277.000000  329.000000   \n",
       "PTRATIO  404.0   18.438614    2.169469   12.60000   17.225000   19.000000   \n",
       "B        404.0  357.153688   91.541647    0.32000  376.092500  391.575000   \n",
       "LSTAT    404.0   12.778540    7.216403    1.73000    7.092500   11.465000   \n",
       "\n",
       "                75%       max  \n",
       "CRIM       3.594927   88.9762  \n",
       "ZN        20.000000  100.0000  \n",
       "INDUS     18.100000   27.7400  \n",
       "CHAS       0.000000    1.0000  \n",
       "NOX        0.624000    0.8710  \n",
       "RM         6.626500    8.7800  \n",
       "AGE       93.825000  100.0000  \n",
       "DIS        5.141475   12.1265  \n",
       "RAD       24.000000   24.0000  \n",
       "TAX      666.000000  711.0000  \n",
       "PTRATIO   20.200000   22.0000  \n",
       "B        396.157500  396.9000  \n",
       "LSTAT     17.102500   37.9700  "
      ]
     },
     "execution_count": 8,
     "metadata": {},
     "output_type": "execute_result"
    }
   ],
   "source": [
    "X_train.describe().T"
   ]
  },
  {
   "cell_type": "code",
   "execution_count": 9,
   "id": "3bb8d598",
   "metadata": {},
   "outputs": [
    {
     "data": {
      "text/html": [
       "<div>\n",
       "<style scoped>\n",
       "    .dataframe tbody tr th:only-of-type {\n",
       "        vertical-align: middle;\n",
       "    }\n",
       "\n",
       "    .dataframe tbody tr th {\n",
       "        vertical-align: top;\n",
       "    }\n",
       "\n",
       "    .dataframe thead th {\n",
       "        text-align: right;\n",
       "    }\n",
       "</style>\n",
       "<table border=\"1\" class=\"dataframe\">\n",
       "  <thead>\n",
       "    <tr style=\"text-align: right;\">\n",
       "      <th></th>\n",
       "      <th>count</th>\n",
       "      <th>mean</th>\n",
       "      <th>std</th>\n",
       "      <th>min</th>\n",
       "      <th>25%</th>\n",
       "      <th>50%</th>\n",
       "      <th>75%</th>\n",
       "      <th>max</th>\n",
       "    </tr>\n",
       "  </thead>\n",
       "  <tbody>\n",
       "    <tr>\n",
       "      <th>CRIM</th>\n",
       "      <td>102.0</td>\n",
       "      <td>3.281089</td>\n",
       "      <td>5.997486</td>\n",
       "      <td>0.01096</td>\n",
       "      <td>0.07902</td>\n",
       "      <td>0.32038</td>\n",
       "      <td>3.692268</td>\n",
       "      <td>37.6619</td>\n",
       "    </tr>\n",
       "    <tr>\n",
       "      <th>ZN</th>\n",
       "      <td>102.0</td>\n",
       "      <td>10.715686</td>\n",
       "      <td>23.561538</td>\n",
       "      <td>0.00000</td>\n",
       "      <td>0.00000</td>\n",
       "      <td>0.00000</td>\n",
       "      <td>0.000000</td>\n",
       "      <td>95.0000</td>\n",
       "    </tr>\n",
       "    <tr>\n",
       "      <th>INDUS</th>\n",
       "      <td>102.0</td>\n",
       "      <td>11.371569</td>\n",
       "      <td>6.936416</td>\n",
       "      <td>1.25000</td>\n",
       "      <td>4.99500</td>\n",
       "      <td>9.90000</td>\n",
       "      <td>18.100000</td>\n",
       "      <td>27.7400</td>\n",
       "    </tr>\n",
       "    <tr>\n",
       "      <th>CHAS</th>\n",
       "      <td>102.0</td>\n",
       "      <td>0.029412</td>\n",
       "      <td>0.169792</td>\n",
       "      <td>0.00000</td>\n",
       "      <td>0.00000</td>\n",
       "      <td>0.00000</td>\n",
       "      <td>0.000000</td>\n",
       "      <td>1.0000</td>\n",
       "    </tr>\n",
       "    <tr>\n",
       "      <th>NOX</th>\n",
       "      <td>102.0</td>\n",
       "      <td>0.561305</td>\n",
       "      <td>0.112075</td>\n",
       "      <td>0.38900</td>\n",
       "      <td>0.48400</td>\n",
       "      <td>0.54100</td>\n",
       "      <td>0.624000</td>\n",
       "      <td>0.8710</td>\n",
       "    </tr>\n",
       "    <tr>\n",
       "      <th>RM</th>\n",
       "      <td>102.0</td>\n",
       "      <td>6.347382</td>\n",
       "      <td>0.753613</td>\n",
       "      <td>4.13800</td>\n",
       "      <td>5.98475</td>\n",
       "      <td>6.32600</td>\n",
       "      <td>6.611750</td>\n",
       "      <td>8.7250</td>\n",
       "    </tr>\n",
       "    <tr>\n",
       "      <th>AGE</th>\n",
       "      <td>102.0</td>\n",
       "      <td>71.106863</td>\n",
       "      <td>26.426094</td>\n",
       "      <td>9.80000</td>\n",
       "      <td>53.07500</td>\n",
       "      <td>78.50000</td>\n",
       "      <td>95.625000</td>\n",
       "      <td>100.0000</td>\n",
       "    </tr>\n",
       "    <tr>\n",
       "      <th>DIS</th>\n",
       "      <td>102.0</td>\n",
       "      <td>3.671989</td>\n",
       "      <td>2.049614</td>\n",
       "      <td>1.17810</td>\n",
       "      <td>2.07900</td>\n",
       "      <td>2.89100</td>\n",
       "      <td>5.190450</td>\n",
       "      <td>10.7103</td>\n",
       "    </tr>\n",
       "    <tr>\n",
       "      <th>RAD</th>\n",
       "      <td>102.0</td>\n",
       "      <td>9.862745</td>\n",
       "      <td>8.849724</td>\n",
       "      <td>1.00000</td>\n",
       "      <td>4.00000</td>\n",
       "      <td>5.00000</td>\n",
       "      <td>24.000000</td>\n",
       "      <td>24.0000</td>\n",
       "    </tr>\n",
       "    <tr>\n",
       "      <th>TAX</th>\n",
       "      <td>102.0</td>\n",
       "      <td>427.960784</td>\n",
       "      <td>165.919873</td>\n",
       "      <td>193.00000</td>\n",
       "      <td>304.00000</td>\n",
       "      <td>384.00000</td>\n",
       "      <td>666.000000</td>\n",
       "      <td>711.0000</td>\n",
       "    </tr>\n",
       "    <tr>\n",
       "      <th>PTRATIO</th>\n",
       "      <td>102.0</td>\n",
       "      <td>18.522549</td>\n",
       "      <td>2.156267</td>\n",
       "      <td>13.00000</td>\n",
       "      <td>17.40000</td>\n",
       "      <td>19.20000</td>\n",
       "      <td>20.200000</td>\n",
       "      <td>21.2000</td>\n",
       "    </tr>\n",
       "    <tr>\n",
       "      <th>B</th>\n",
       "      <td>102.0</td>\n",
       "      <td>354.774216</td>\n",
       "      <td>90.734074</td>\n",
       "      <td>7.68000</td>\n",
       "      <td>371.27250</td>\n",
       "      <td>390.33000</td>\n",
       "      <td>396.390000</td>\n",
       "      <td>396.9000</td>\n",
       "    </tr>\n",
       "    <tr>\n",
       "      <th>LSTAT</th>\n",
       "      <td>102.0</td>\n",
       "      <td>12.156078</td>\n",
       "      <td>6.846249</td>\n",
       "      <td>1.92000</td>\n",
       "      <td>6.73500</td>\n",
       "      <td>10.86500</td>\n",
       "      <td>16.417500</td>\n",
       "      <td>29.9700</td>\n",
       "    </tr>\n",
       "  </tbody>\n",
       "</table>\n",
       "</div>"
      ],
      "text/plain": [
       "         count        mean         std        min        25%        50%  \\\n",
       "CRIM     102.0    3.281089    5.997486    0.01096    0.07902    0.32038   \n",
       "ZN       102.0   10.715686   23.561538    0.00000    0.00000    0.00000   \n",
       "INDUS    102.0   11.371569    6.936416    1.25000    4.99500    9.90000   \n",
       "CHAS     102.0    0.029412    0.169792    0.00000    0.00000    0.00000   \n",
       "NOX      102.0    0.561305    0.112075    0.38900    0.48400    0.54100   \n",
       "RM       102.0    6.347382    0.753613    4.13800    5.98475    6.32600   \n",
       "AGE      102.0   71.106863   26.426094    9.80000   53.07500   78.50000   \n",
       "DIS      102.0    3.671989    2.049614    1.17810    2.07900    2.89100   \n",
       "RAD      102.0    9.862745    8.849724    1.00000    4.00000    5.00000   \n",
       "TAX      102.0  427.960784  165.919873  193.00000  304.00000  384.00000   \n",
       "PTRATIO  102.0   18.522549    2.156267   13.00000   17.40000   19.20000   \n",
       "B        102.0  354.774216   90.734074    7.68000  371.27250  390.33000   \n",
       "LSTAT    102.0   12.156078    6.846249    1.92000    6.73500   10.86500   \n",
       "\n",
       "                75%       max  \n",
       "CRIM       3.692268   37.6619  \n",
       "ZN         0.000000   95.0000  \n",
       "INDUS     18.100000   27.7400  \n",
       "CHAS       0.000000    1.0000  \n",
       "NOX        0.624000    0.8710  \n",
       "RM         6.611750    8.7250  \n",
       "AGE       95.625000  100.0000  \n",
       "DIS        5.190450   10.7103  \n",
       "RAD       24.000000   24.0000  \n",
       "TAX      666.000000  711.0000  \n",
       "PTRATIO   20.200000   21.2000  \n",
       "B        396.390000  396.9000  \n",
       "LSTAT     16.417500   29.9700  "
      ]
     },
     "execution_count": 9,
     "metadata": {},
     "output_type": "execute_result"
    }
   ],
   "source": [
    "X_test.describe().T"
   ]
  },
  {
   "cell_type": "markdown",
   "id": "74450245",
   "metadata": {},
   "source": [
    "### Pre_processing"
   ]
  },
  {
   "cell_type": "markdown",
   "id": "645d439b",
   "metadata": {},
   "source": [
    "### Variables numéricas categóricas"
   ]
  },
  {
   "cell_type": "code",
   "execution_count": 10,
   "id": "f911bcd8",
   "metadata": {},
   "outputs": [
    {
     "data": {
      "text/plain": [
       "0    471\n",
       "1     35\n",
       "Name: CHAS, dtype: int64"
      ]
     },
     "execution_count": 10,
     "metadata": {},
     "output_type": "execute_result"
    }
   ],
   "source": [
    "Housing.CHAS.value_counts()"
   ]
  },
  {
   "cell_type": "code",
   "execution_count": 11,
   "id": "685e878f",
   "metadata": {
    "scrolled": true
   },
   "outputs": [
    {
     "data": {
      "text/plain": [
       "24    132\n",
       "5     115\n",
       "4     110\n",
       "3      38\n",
       "6      26\n",
       "2      24\n",
       "8      24\n",
       "1      20\n",
       "7      17\n",
       "Name: RAD, dtype: int64"
      ]
     },
     "execution_count": 11,
     "metadata": {},
     "output_type": "execute_result"
    }
   ],
   "source": [
    "Housing.RAD.value_counts()"
   ]
  },
  {
   "cell_type": "code",
   "execution_count": 12,
   "id": "83b362bb",
   "metadata": {},
   "outputs": [
    {
     "data": {
      "text/html": [
       "<div>\n",
       "<style scoped>\n",
       "    .dataframe tbody tr th:only-of-type {\n",
       "        vertical-align: middle;\n",
       "    }\n",
       "\n",
       "    .dataframe tbody tr th {\n",
       "        vertical-align: top;\n",
       "    }\n",
       "\n",
       "    .dataframe thead th {\n",
       "        text-align: right;\n",
       "    }\n",
       "</style>\n",
       "<table border=\"1\" class=\"dataframe\">\n",
       "  <thead>\n",
       "    <tr style=\"text-align: right;\">\n",
       "      <th></th>\n",
       "      <th>CRIM</th>\n",
       "      <th>ZN</th>\n",
       "      <th>INDUS</th>\n",
       "      <th>CHAS</th>\n",
       "      <th>NOX</th>\n",
       "      <th>RM</th>\n",
       "      <th>AGE</th>\n",
       "      <th>DIS</th>\n",
       "      <th>RAD</th>\n",
       "      <th>TAX</th>\n",
       "      <th>PTRATIO</th>\n",
       "      <th>B</th>\n",
       "      <th>LSTAT</th>\n",
       "      <th>MEDV</th>\n",
       "    </tr>\n",
       "  </thead>\n",
       "  <tbody>\n",
       "    <tr>\n",
       "      <th>0</th>\n",
       "      <td>0.00632</td>\n",
       "      <td>18.0</td>\n",
       "      <td>2.31</td>\n",
       "      <td>0</td>\n",
       "      <td>0.538</td>\n",
       "      <td>6.575</td>\n",
       "      <td>65.2</td>\n",
       "      <td>4.0900</td>\n",
       "      <td>1</td>\n",
       "      <td>296.0</td>\n",
       "      <td>15.3</td>\n",
       "      <td>396.90</td>\n",
       "      <td>4.98</td>\n",
       "      <td>24.0</td>\n",
       "    </tr>\n",
       "    <tr>\n",
       "      <th>1</th>\n",
       "      <td>0.02731</td>\n",
       "      <td>0.0</td>\n",
       "      <td>7.07</td>\n",
       "      <td>0</td>\n",
       "      <td>0.469</td>\n",
       "      <td>6.421</td>\n",
       "      <td>78.9</td>\n",
       "      <td>4.9671</td>\n",
       "      <td>2</td>\n",
       "      <td>242.0</td>\n",
       "      <td>17.8</td>\n",
       "      <td>396.90</td>\n",
       "      <td>9.14</td>\n",
       "      <td>21.6</td>\n",
       "    </tr>\n",
       "    <tr>\n",
       "      <th>2</th>\n",
       "      <td>0.02729</td>\n",
       "      <td>0.0</td>\n",
       "      <td>7.07</td>\n",
       "      <td>0</td>\n",
       "      <td>0.469</td>\n",
       "      <td>7.185</td>\n",
       "      <td>61.1</td>\n",
       "      <td>4.9671</td>\n",
       "      <td>2</td>\n",
       "      <td>242.0</td>\n",
       "      <td>17.8</td>\n",
       "      <td>392.83</td>\n",
       "      <td>4.03</td>\n",
       "      <td>34.7</td>\n",
       "    </tr>\n",
       "    <tr>\n",
       "      <th>3</th>\n",
       "      <td>0.03237</td>\n",
       "      <td>0.0</td>\n",
       "      <td>2.18</td>\n",
       "      <td>0</td>\n",
       "      <td>0.458</td>\n",
       "      <td>6.998</td>\n",
       "      <td>45.8</td>\n",
       "      <td>6.0622</td>\n",
       "      <td>3</td>\n",
       "      <td>222.0</td>\n",
       "      <td>18.7</td>\n",
       "      <td>394.63</td>\n",
       "      <td>2.94</td>\n",
       "      <td>33.4</td>\n",
       "    </tr>\n",
       "    <tr>\n",
       "      <th>4</th>\n",
       "      <td>0.06905</td>\n",
       "      <td>0.0</td>\n",
       "      <td>2.18</td>\n",
       "      <td>0</td>\n",
       "      <td>0.458</td>\n",
       "      <td>7.147</td>\n",
       "      <td>54.2</td>\n",
       "      <td>6.0622</td>\n",
       "      <td>3</td>\n",
       "      <td>222.0</td>\n",
       "      <td>18.7</td>\n",
       "      <td>396.90</td>\n",
       "      <td>5.33</td>\n",
       "      <td>36.2</td>\n",
       "    </tr>\n",
       "    <tr>\n",
       "      <th>...</th>\n",
       "      <td>...</td>\n",
       "      <td>...</td>\n",
       "      <td>...</td>\n",
       "      <td>...</td>\n",
       "      <td>...</td>\n",
       "      <td>...</td>\n",
       "      <td>...</td>\n",
       "      <td>...</td>\n",
       "      <td>...</td>\n",
       "      <td>...</td>\n",
       "      <td>...</td>\n",
       "      <td>...</td>\n",
       "      <td>...</td>\n",
       "      <td>...</td>\n",
       "    </tr>\n",
       "    <tr>\n",
       "      <th>501</th>\n",
       "      <td>0.06263</td>\n",
       "      <td>0.0</td>\n",
       "      <td>11.93</td>\n",
       "      <td>0</td>\n",
       "      <td>0.573</td>\n",
       "      <td>6.593</td>\n",
       "      <td>69.1</td>\n",
       "      <td>2.4786</td>\n",
       "      <td>1</td>\n",
       "      <td>273.0</td>\n",
       "      <td>21.0</td>\n",
       "      <td>391.99</td>\n",
       "      <td>9.67</td>\n",
       "      <td>22.4</td>\n",
       "    </tr>\n",
       "    <tr>\n",
       "      <th>502</th>\n",
       "      <td>0.04527</td>\n",
       "      <td>0.0</td>\n",
       "      <td>11.93</td>\n",
       "      <td>0</td>\n",
       "      <td>0.573</td>\n",
       "      <td>6.120</td>\n",
       "      <td>76.7</td>\n",
       "      <td>2.2875</td>\n",
       "      <td>1</td>\n",
       "      <td>273.0</td>\n",
       "      <td>21.0</td>\n",
       "      <td>396.90</td>\n",
       "      <td>9.08</td>\n",
       "      <td>20.6</td>\n",
       "    </tr>\n",
       "    <tr>\n",
       "      <th>503</th>\n",
       "      <td>0.06076</td>\n",
       "      <td>0.0</td>\n",
       "      <td>11.93</td>\n",
       "      <td>0</td>\n",
       "      <td>0.573</td>\n",
       "      <td>6.976</td>\n",
       "      <td>91.0</td>\n",
       "      <td>2.1675</td>\n",
       "      <td>1</td>\n",
       "      <td>273.0</td>\n",
       "      <td>21.0</td>\n",
       "      <td>396.90</td>\n",
       "      <td>5.64</td>\n",
       "      <td>23.9</td>\n",
       "    </tr>\n",
       "    <tr>\n",
       "      <th>504</th>\n",
       "      <td>0.10959</td>\n",
       "      <td>0.0</td>\n",
       "      <td>11.93</td>\n",
       "      <td>0</td>\n",
       "      <td>0.573</td>\n",
       "      <td>6.794</td>\n",
       "      <td>89.3</td>\n",
       "      <td>2.3889</td>\n",
       "      <td>1</td>\n",
       "      <td>273.0</td>\n",
       "      <td>21.0</td>\n",
       "      <td>393.45</td>\n",
       "      <td>6.48</td>\n",
       "      <td>22.0</td>\n",
       "    </tr>\n",
       "    <tr>\n",
       "      <th>505</th>\n",
       "      <td>0.04741</td>\n",
       "      <td>0.0</td>\n",
       "      <td>11.93</td>\n",
       "      <td>0</td>\n",
       "      <td>0.573</td>\n",
       "      <td>6.030</td>\n",
       "      <td>80.8</td>\n",
       "      <td>2.5050</td>\n",
       "      <td>1</td>\n",
       "      <td>273.0</td>\n",
       "      <td>21.0</td>\n",
       "      <td>396.90</td>\n",
       "      <td>7.88</td>\n",
       "      <td>11.9</td>\n",
       "    </tr>\n",
       "  </tbody>\n",
       "</table>\n",
       "<p>506 rows × 14 columns</p>\n",
       "</div>"
      ],
      "text/plain": [
       "        CRIM    ZN  INDUS  CHAS    NOX     RM   AGE     DIS  RAD    TAX  \\\n",
       "0    0.00632  18.0   2.31     0  0.538  6.575  65.2  4.0900    1  296.0   \n",
       "1    0.02731   0.0   7.07     0  0.469  6.421  78.9  4.9671    2  242.0   \n",
       "2    0.02729   0.0   7.07     0  0.469  7.185  61.1  4.9671    2  242.0   \n",
       "3    0.03237   0.0   2.18     0  0.458  6.998  45.8  6.0622    3  222.0   \n",
       "4    0.06905   0.0   2.18     0  0.458  7.147  54.2  6.0622    3  222.0   \n",
       "..       ...   ...    ...   ...    ...    ...   ...     ...  ...    ...   \n",
       "501  0.06263   0.0  11.93     0  0.573  6.593  69.1  2.4786    1  273.0   \n",
       "502  0.04527   0.0  11.93     0  0.573  6.120  76.7  2.2875    1  273.0   \n",
       "503  0.06076   0.0  11.93     0  0.573  6.976  91.0  2.1675    1  273.0   \n",
       "504  0.10959   0.0  11.93     0  0.573  6.794  89.3  2.3889    1  273.0   \n",
       "505  0.04741   0.0  11.93     0  0.573  6.030  80.8  2.5050    1  273.0   \n",
       "\n",
       "     PTRATIO       B  LSTAT  MEDV  \n",
       "0       15.3  396.90   4.98  24.0  \n",
       "1       17.8  396.90   9.14  21.6  \n",
       "2       17.8  392.83   4.03  34.7  \n",
       "3       18.7  394.63   2.94  33.4  \n",
       "4       18.7  396.90   5.33  36.2  \n",
       "..       ...     ...    ...   ...  \n",
       "501     21.0  391.99   9.67  22.4  \n",
       "502     21.0  396.90   9.08  20.6  \n",
       "503     21.0  396.90   5.64  23.9  \n",
       "504     21.0  393.45   6.48  22.0  \n",
       "505     21.0  396.90   7.88  11.9  \n",
       "\n",
       "[506 rows x 14 columns]"
      ]
     },
     "execution_count": 12,
     "metadata": {},
     "output_type": "execute_result"
    }
   ],
   "source": [
    "Housing"
   ]
  },
  {
   "cell_type": "code",
   "execution_count": 13,
   "id": "7e80ce9f",
   "metadata": {},
   "outputs": [],
   "source": [
    "X_train.loc[X_train['RAD']==24,'RAD']=9"
   ]
  },
  {
   "cell_type": "code",
   "execution_count": 14,
   "id": "31f27adb",
   "metadata": {},
   "outputs": [
    {
     "data": {
      "text/plain": [
       "9    104\n",
       "5     92\n",
       "4     85\n",
       "3     32\n",
       "2     22\n",
       "6     21\n",
       "8     18\n",
       "7     15\n",
       "1     15\n",
       "Name: RAD, dtype: int64"
      ]
     },
     "execution_count": 14,
     "metadata": {},
     "output_type": "execute_result"
    }
   ],
   "source": [
    "X_train.RAD.value_counts()"
   ]
  },
  {
   "cell_type": "markdown",
   "id": "2c9860bf",
   "metadata": {},
   "source": [
    "### Normalización con MinMaxScaler"
   ]
  },
  {
   "cell_type": "code",
   "execution_count": 15,
   "id": "85dadd1a",
   "metadata": {},
   "outputs": [
    {
     "data": {
      "text/plain": [
       "MinMaxScaler()"
      ]
     },
     "execution_count": 15,
     "metadata": {},
     "output_type": "execute_result"
    }
   ],
   "source": [
    "from sklearn.preprocessing import MinMaxScaler\n",
    "scaler_minmax=MinMaxScaler().fit(X_train[['TAX','AGE','NOX','INDUS','RAD']])\n",
    "scaler_minmax"
   ]
  },
  {
   "cell_type": "code",
   "execution_count": 16,
   "id": "328287f4",
   "metadata": {},
   "outputs": [],
   "source": [
    "X_train[['TAX_NORM','AGE_NORM','NOX_NORM','INDUS_NORM','RAD_NORM']]=scaler_minmax.transform(X_train\n",
    "                                                                                     [['TAX','AGE','NOX','INDUS','RAD']])"
   ]
  },
  {
   "cell_type": "markdown",
   "id": "ca879379",
   "metadata": {},
   "source": [
    "### Normalización con Robust"
   ]
  },
  {
   "cell_type": "code",
   "execution_count": 17,
   "id": "e2c5ca9a",
   "metadata": {},
   "outputs": [
    {
     "data": {
      "text/plain": [
       "RobustScaler()"
      ]
     },
     "execution_count": 17,
     "metadata": {},
     "output_type": "execute_result"
    }
   ],
   "source": [
    "from sklearn.preprocessing import RobustScaler\n",
    "scaler_robust=RobustScaler().fit(X_train[['CRIM','ZN','RM','DIS','PTRATIO','B','LSTAT']])\n",
    "scaler_robust"
   ]
  },
  {
   "cell_type": "code",
   "execution_count": 18,
   "id": "589ea34c",
   "metadata": {},
   "outputs": [],
   "source": [
    "X_train[['CRIM_R','ZN_R','RM_R','DIS_R','PTRATIO_R','B_R','LSTAT_R']]=scaler_robust.transform(X_train\n",
    "                                                                                       [['CRIM','ZN','RM','DIS','PTRATIO','B','LSTAT']])"
   ]
  },
  {
   "cell_type": "code",
   "execution_count": 19,
   "id": "38106fec",
   "metadata": {},
   "outputs": [],
   "source": [
    "X_train.to_excel('Housing.xlsx')"
   ]
  },
  {
   "cell_type": "code",
   "execution_count": 20,
   "id": "c01752c7",
   "metadata": {},
   "outputs": [],
   "source": [
    "X_train_new=X_train"
   ]
  },
  {
   "cell_type": "code",
   "execution_count": 21,
   "id": "7bf8caad",
   "metadata": {},
   "outputs": [],
   "source": [
    "\n",
    "X_train_new.drop(['CRIM', 'ZN', 'INDUS', 'NOX', 'RM', 'AGE', 'DIS', 'RAD', 'TAX',\n",
    "       'PTRATIO', 'B', 'LSTAT'],axis=1,inplace=True)"
   ]
  },
  {
   "cell_type": "code",
   "execution_count": null,
   "id": "27a1d40a",
   "metadata": {},
   "outputs": [],
   "source": []
  },
  {
   "cell_type": "markdown",
   "id": "167366d8",
   "metadata": {},
   "source": [
    "### Aplicacion del pre-processing al test"
   ]
  },
  {
   "cell_type": "code",
   "execution_count": 22,
   "id": "38268ef3",
   "metadata": {},
   "outputs": [],
   "source": [
    "X_test.loc[X_test['RAD']==24,'RAD']=9"
   ]
  },
  {
   "cell_type": "code",
   "execution_count": 23,
   "id": "ca7323bd",
   "metadata": {},
   "outputs": [],
   "source": [
    "X_test[['TAX_NORM','AGE_NORM','NOX_NORM','INDUS_NORM','RAD_NORM']]=scaler_minmax.transform(X_test\n",
    "                                                                                     [['TAX','AGE','NOX','INDUS','RAD']])"
   ]
  },
  {
   "cell_type": "code",
   "execution_count": 24,
   "id": "557175ef",
   "metadata": {},
   "outputs": [],
   "source": [
    "X_test[['CRIM_R','ZN_R','RM_R','DIS_R','PTRATIO_R','B_R','LSTAT_R']]=scaler_robust.transform(X_test\n",
    "                                                                                       [['CRIM','ZN','RM','DIS','PTRATIO','B','LSTAT']])"
   ]
  },
  {
   "cell_type": "code",
   "execution_count": 25,
   "id": "244d7423",
   "metadata": {},
   "outputs": [],
   "source": [
    "X_test_new=X_test"
   ]
  },
  {
   "cell_type": "code",
   "execution_count": 26,
   "id": "97ce0d80",
   "metadata": {},
   "outputs": [],
   "source": [
    "\n",
    "X_test_new.drop(['CRIM', 'ZN', 'INDUS', 'NOX', 'RM', 'AGE', 'DIS', 'RAD', 'TAX',\n",
    "       'PTRATIO', 'B', 'LSTAT'],axis=1,inplace=True)"
   ]
  },
  {
   "cell_type": "code",
   "execution_count": 27,
   "id": "4be8d474",
   "metadata": {
    "scrolled": true
   },
   "outputs": [
    {
     "data": {
      "text/html": [
       "<div>\n",
       "<style scoped>\n",
       "    .dataframe tbody tr th:only-of-type {\n",
       "        vertical-align: middle;\n",
       "    }\n",
       "\n",
       "    .dataframe tbody tr th {\n",
       "        vertical-align: top;\n",
       "    }\n",
       "\n",
       "    .dataframe thead th {\n",
       "        text-align: right;\n",
       "    }\n",
       "</style>\n",
       "<table border=\"1\" class=\"dataframe\">\n",
       "  <thead>\n",
       "    <tr style=\"text-align: right;\">\n",
       "      <th></th>\n",
       "      <th>CHAS</th>\n",
       "      <th>TAX_NORM</th>\n",
       "      <th>AGE_NORM</th>\n",
       "      <th>NOX_NORM</th>\n",
       "      <th>INDUS_NORM</th>\n",
       "      <th>RAD_NORM</th>\n",
       "      <th>CRIM_R</th>\n",
       "      <th>ZN_R</th>\n",
       "      <th>RM_R</th>\n",
       "      <th>DIS_R</th>\n",
       "      <th>PTRATIO_R</th>\n",
       "      <th>B_R</th>\n",
       "      <th>LSTAT_R</th>\n",
       "    </tr>\n",
       "  </thead>\n",
       "  <tbody>\n",
       "    <tr>\n",
       "      <th>307</th>\n",
       "      <td>0</td>\n",
       "      <td>0.066794</td>\n",
       "      <td>0.694130</td>\n",
       "      <td>0.179012</td>\n",
       "      <td>0.063050</td>\n",
       "      <td>0.750</td>\n",
       "      <td>-0.052696</td>\n",
       "      <td>1.650</td>\n",
       "      <td>0.893631</td>\n",
       "      <td>-0.038174</td>\n",
       "      <td>-0.201681</td>\n",
       "      <td>0.265387</td>\n",
       "      <td>-0.393107</td>\n",
       "    </tr>\n",
       "    <tr>\n",
       "      <th>343</th>\n",
       "      <td>0</td>\n",
       "      <td>0.349237</td>\n",
       "      <td>0.550978</td>\n",
       "      <td>0.203704</td>\n",
       "      <td>0.121701</td>\n",
       "      <td>0.500</td>\n",
       "      <td>-0.059498</td>\n",
       "      <td>2.750</td>\n",
       "      <td>0.689563</td>\n",
       "      <td>0.801515</td>\n",
       "      <td>-0.470588</td>\n",
       "      <td>0.265387</td>\n",
       "      <td>-0.428072</td>\n",
       "    </tr>\n",
       "    <tr>\n",
       "      <th>47</th>\n",
       "      <td>0</td>\n",
       "      <td>0.087786</td>\n",
       "      <td>0.850669</td>\n",
       "      <td>0.129630</td>\n",
       "      <td>0.236437</td>\n",
       "      <td>0.250</td>\n",
       "      <td>-0.001462</td>\n",
       "      <td>0.000</td>\n",
       "      <td>-0.198733</td>\n",
       "      <td>0.787451</td>\n",
       "      <td>-0.369748</td>\n",
       "      <td>0.058061</td>\n",
       "      <td>0.732767</td>\n",
       "    </tr>\n",
       "    <tr>\n",
       "      <th>67</th>\n",
       "      <td>0</td>\n",
       "      <td>0.301527</td>\n",
       "      <td>0.190525</td>\n",
       "      <td>0.049383</td>\n",
       "      <td>0.205645</td>\n",
       "      <td>0.375</td>\n",
       "      <td>-0.050256</td>\n",
       "      <td>0.625</td>\n",
       "      <td>-0.401467</td>\n",
       "      <td>1.053777</td>\n",
       "      <td>-0.033613</td>\n",
       "      <td>0.230999</td>\n",
       "      <td>-0.336164</td>\n",
       "    </tr>\n",
       "    <tr>\n",
       "      <th>362</th>\n",
       "      <td>0</td>\n",
       "      <td>0.914122</td>\n",
       "      <td>0.960865</td>\n",
       "      <td>0.792181</td>\n",
       "      <td>0.646628</td>\n",
       "      <td>1.000</td>\n",
       "      <td>0.980493</td>\n",
       "      <td>0.000</td>\n",
       "      <td>-1.089697</td>\n",
       "      <td>-0.393594</td>\n",
       "      <td>0.403361</td>\n",
       "      <td>-0.537503</td>\n",
       "      <td>-0.127373</td>\n",
       "    </tr>\n",
       "  </tbody>\n",
       "</table>\n",
       "</div>"
      ],
      "text/plain": [
       "     CHAS  TAX_NORM  AGE_NORM  NOX_NORM  INDUS_NORM  RAD_NORM    CRIM_R  \\\n",
       "307     0  0.066794  0.694130  0.179012    0.063050     0.750 -0.052696   \n",
       "343     0  0.349237  0.550978  0.203704    0.121701     0.500 -0.059498   \n",
       "47      0  0.087786  0.850669  0.129630    0.236437     0.250 -0.001462   \n",
       "67      0  0.301527  0.190525  0.049383    0.205645     0.375 -0.050256   \n",
       "362     0  0.914122  0.960865  0.792181    0.646628     1.000  0.980493   \n",
       "\n",
       "      ZN_R      RM_R     DIS_R  PTRATIO_R       B_R   LSTAT_R  \n",
       "307  1.650  0.893631 -0.038174  -0.201681  0.265387 -0.393107  \n",
       "343  2.750  0.689563  0.801515  -0.470588  0.265387 -0.428072  \n",
       "47   0.000 -0.198733  0.787451  -0.369748  0.058061  0.732767  \n",
       "67   0.625 -0.401467  1.053777  -0.033613  0.230999 -0.336164  \n",
       "362  0.000 -1.089697 -0.393594   0.403361 -0.537503 -0.127373  "
      ]
     },
     "execution_count": 27,
     "metadata": {},
     "output_type": "execute_result"
    }
   ],
   "source": [
    "X_test_new.head()"
   ]
  },
  {
   "cell_type": "code",
   "execution_count": 28,
   "id": "3a559d71",
   "metadata": {
    "scrolled": false
   },
   "outputs": [
    {
     "data": {
      "text/html": [
       "<div>\n",
       "<style scoped>\n",
       "    .dataframe tbody tr th:only-of-type {\n",
       "        vertical-align: middle;\n",
       "    }\n",
       "\n",
       "    .dataframe tbody tr th {\n",
       "        vertical-align: top;\n",
       "    }\n",
       "\n",
       "    .dataframe thead th {\n",
       "        text-align: right;\n",
       "    }\n",
       "</style>\n",
       "<table border=\"1\" class=\"dataframe\">\n",
       "  <thead>\n",
       "    <tr style=\"text-align: right;\">\n",
       "      <th></th>\n",
       "      <th>count</th>\n",
       "      <th>mean</th>\n",
       "      <th>std</th>\n",
       "      <th>min</th>\n",
       "      <th>25%</th>\n",
       "      <th>50%</th>\n",
       "      <th>75%</th>\n",
       "      <th>max</th>\n",
       "    </tr>\n",
       "  </thead>\n",
       "  <tbody>\n",
       "    <tr>\n",
       "      <th>CHAS</th>\n",
       "      <td>102.0</td>\n",
       "      <td>0.029412</td>\n",
       "      <td>0.169792</td>\n",
       "      <td>0.000000</td>\n",
       "      <td>0.000000</td>\n",
       "      <td>0.000000</td>\n",
       "      <td>0.000000</td>\n",
       "      <td>1.000000</td>\n",
       "    </tr>\n",
       "    <tr>\n",
       "      <th>TAX_NORM</th>\n",
       "      <td>102.0</td>\n",
       "      <td>0.459849</td>\n",
       "      <td>0.316641</td>\n",
       "      <td>0.011450</td>\n",
       "      <td>0.223282</td>\n",
       "      <td>0.375954</td>\n",
       "      <td>0.914122</td>\n",
       "      <td>1.000000</td>\n",
       "    </tr>\n",
       "    <tr>\n",
       "      <th>AGE_NORM</th>\n",
       "      <td>102.0</td>\n",
       "      <td>0.702439</td>\n",
       "      <td>0.272153</td>\n",
       "      <td>0.071061</td>\n",
       "      <td>0.516735</td>\n",
       "      <td>0.778579</td>\n",
       "      <td>0.954943</td>\n",
       "      <td>1.000000</td>\n",
       "    </tr>\n",
       "    <tr>\n",
       "      <th>NOX_NORM</th>\n",
       "      <td>102.0</td>\n",
       "      <td>0.362767</td>\n",
       "      <td>0.230606</td>\n",
       "      <td>0.008230</td>\n",
       "      <td>0.203704</td>\n",
       "      <td>0.320988</td>\n",
       "      <td>0.491770</td>\n",
       "      <td>1.000000</td>\n",
       "    </tr>\n",
       "    <tr>\n",
       "      <th>INDUS_NORM</th>\n",
       "      <td>102.0</td>\n",
       "      <td>0.399984</td>\n",
       "      <td>0.254267</td>\n",
       "      <td>0.028959</td>\n",
       "      <td>0.166239</td>\n",
       "      <td>0.346041</td>\n",
       "      <td>0.646628</td>\n",
       "      <td>1.000000</td>\n",
       "    </tr>\n",
       "    <tr>\n",
       "      <th>RAD_NORM</th>\n",
       "      <td>102.0</td>\n",
       "      <td>0.593137</td>\n",
       "      <td>0.306028</td>\n",
       "      <td>0.000000</td>\n",
       "      <td>0.375000</td>\n",
       "      <td>0.500000</td>\n",
       "      <td>1.000000</td>\n",
       "      <td>1.000000</td>\n",
       "    </tr>\n",
       "    <tr>\n",
       "      <th>CRIM_R</th>\n",
       "      <td>102.0</td>\n",
       "      <td>0.867425</td>\n",
       "      <td>1.707552</td>\n",
       "      <td>-0.063617</td>\n",
       "      <td>-0.044240</td>\n",
       "      <td>0.024478</td>\n",
       "      <td>0.984492</td>\n",
       "      <td>10.656030</td>\n",
       "    </tr>\n",
       "    <tr>\n",
       "      <th>ZN_R</th>\n",
       "      <td>102.0</td>\n",
       "      <td>0.535784</td>\n",
       "      <td>1.178077</td>\n",
       "      <td>0.000000</td>\n",
       "      <td>0.000000</td>\n",
       "      <td>0.000000</td>\n",
       "      <td>0.000000</td>\n",
       "      <td>4.750000</td>\n",
       "    </tr>\n",
       "    <tr>\n",
       "      <th>RM_R</th>\n",
       "      <td>102.0</td>\n",
       "      <td>0.224585</td>\n",
       "      <td>1.005153</td>\n",
       "      <td>-2.722241</td>\n",
       "      <td>-0.259086</td>\n",
       "      <td>0.196065</td>\n",
       "      <td>0.577192</td>\n",
       "      <td>3.395799</td>\n",
       "    </tr>\n",
       "    <tr>\n",
       "      <th>DIS_R</th>\n",
       "      <td>102.0</td>\n",
       "      <td>0.122982</td>\n",
       "      <td>0.675076</td>\n",
       "      <td>-0.698423</td>\n",
       "      <td>-0.401696</td>\n",
       "      <td>-0.134250</td>\n",
       "      <td>0.623113</td>\n",
       "      <td>2.441171</td>\n",
       "    </tr>\n",
       "    <tr>\n",
       "      <th>PTRATIO_R</th>\n",
       "      <td>102.0</td>\n",
       "      <td>-0.160488</td>\n",
       "      <td>0.724796</td>\n",
       "      <td>-2.016807</td>\n",
       "      <td>-0.537815</td>\n",
       "      <td>0.067227</td>\n",
       "      <td>0.403361</td>\n",
       "      <td>0.739496</td>\n",
       "    </tr>\n",
       "    <tr>\n",
       "      <th>B_R</th>\n",
       "      <td>102.0</td>\n",
       "      <td>-1.834078</td>\n",
       "      <td>4.522007</td>\n",
       "      <td>-19.132569</td>\n",
       "      <td>-1.011837</td>\n",
       "      <td>-0.062048</td>\n",
       "      <td>0.239970</td>\n",
       "      <td>0.265387</td>\n",
       "    </tr>\n",
       "    <tr>\n",
       "      <th>LSTAT_R</th>\n",
       "      <td>102.0</td>\n",
       "      <td>0.069039</td>\n",
       "      <td>0.683941</td>\n",
       "      <td>-0.953546</td>\n",
       "      <td>-0.472527</td>\n",
       "      <td>-0.059940</td>\n",
       "      <td>0.494755</td>\n",
       "      <td>1.848651</td>\n",
       "    </tr>\n",
       "  </tbody>\n",
       "</table>\n",
       "</div>"
      ],
      "text/plain": [
       "            count      mean       std        min       25%       50%  \\\n",
       "CHAS        102.0  0.029412  0.169792   0.000000  0.000000  0.000000   \n",
       "TAX_NORM    102.0  0.459849  0.316641   0.011450  0.223282  0.375954   \n",
       "AGE_NORM    102.0  0.702439  0.272153   0.071061  0.516735  0.778579   \n",
       "NOX_NORM    102.0  0.362767  0.230606   0.008230  0.203704  0.320988   \n",
       "INDUS_NORM  102.0  0.399984  0.254267   0.028959  0.166239  0.346041   \n",
       "RAD_NORM    102.0  0.593137  0.306028   0.000000  0.375000  0.500000   \n",
       "CRIM_R      102.0  0.867425  1.707552  -0.063617 -0.044240  0.024478   \n",
       "ZN_R        102.0  0.535784  1.178077   0.000000  0.000000  0.000000   \n",
       "RM_R        102.0  0.224585  1.005153  -2.722241 -0.259086  0.196065   \n",
       "DIS_R       102.0  0.122982  0.675076  -0.698423 -0.401696 -0.134250   \n",
       "PTRATIO_R   102.0 -0.160488  0.724796  -2.016807 -0.537815  0.067227   \n",
       "B_R         102.0 -1.834078  4.522007 -19.132569 -1.011837 -0.062048   \n",
       "LSTAT_R     102.0  0.069039  0.683941  -0.953546 -0.472527 -0.059940   \n",
       "\n",
       "                 75%        max  \n",
       "CHAS        0.000000   1.000000  \n",
       "TAX_NORM    0.914122   1.000000  \n",
       "AGE_NORM    0.954943   1.000000  \n",
       "NOX_NORM    0.491770   1.000000  \n",
       "INDUS_NORM  0.646628   1.000000  \n",
       "RAD_NORM    1.000000   1.000000  \n",
       "CRIM_R      0.984492  10.656030  \n",
       "ZN_R        0.000000   4.750000  \n",
       "RM_R        0.577192   3.395799  \n",
       "DIS_R       0.623113   2.441171  \n",
       "PTRATIO_R   0.403361   0.739496  \n",
       "B_R         0.239970   0.265387  \n",
       "LSTAT_R     0.494755   1.848651  "
      ]
     },
     "execution_count": 28,
     "metadata": {},
     "output_type": "execute_result"
    }
   ],
   "source": [
    "X_test_new.describe().T"
   ]
  },
  {
   "cell_type": "code",
   "execution_count": null,
   "id": "f5b46102",
   "metadata": {},
   "outputs": [],
   "source": []
  },
  {
   "cell_type": "markdown",
   "id": "6e2e0ce6",
   "metadata": {},
   "source": [
    "## EXERCICI 1"
   ]
  },
  {
   "cell_type": "markdown",
   "id": "5a5f2f33",
   "metadata": {},
   "source": [
    "Creamos dos modelos de regresión, el de Regresión Linear Múltiple y el Arbol de decisión :"
   ]
  },
  {
   "cell_type": "markdown",
   "id": "3e1db82a",
   "metadata": {},
   "source": [
    "## Regresión Linear Multiple"
   ]
  },
  {
   "cell_type": "markdown",
   "id": "7f28d7b5",
   "metadata": {},
   "source": [
    "Creamos el modelo :"
   ]
  },
  {
   "cell_type": "code",
   "execution_count": 29,
   "id": "29d8cbc2",
   "metadata": {},
   "outputs": [
    {
     "data": {
      "text/plain": [
       "LinearRegression()"
      ]
     },
     "execution_count": 29,
     "metadata": {},
     "output_type": "execute_result"
    }
   ],
   "source": [
    "modelo_mlr=LinearRegression()\n",
    "modelo_mlr.fit(X_train_new,y_train)"
   ]
  },
  {
   "cell_type": "code",
   "execution_count": 30,
   "id": "c2666629",
   "metadata": {},
   "outputs": [
    {
     "name": "stdout",
     "output_type": "stream",
     "text": [
      "intercepto 24.7\n"
     ]
    }
   ],
   "source": [
    "print('intercepto',round(modelo_mlr.intercept_,2))"
   ]
  },
  {
   "cell_type": "code",
   "execution_count": 31,
   "id": "95ffba74",
   "metadata": {
    "scrolled": false
   },
   "outputs": [
    {
     "name": "stdout",
     "output_type": "stream",
     "text": [
      "coeficientes [ 2.24 -1.49  0.09 -9.03 -0.25  3.43 -0.31  1.21  2.46 -4.69 -2.63  0.13\n",
      " -5.37]\n"
     ]
    }
   ],
   "source": [
    "print('coeficientes',modelo_mlr.coef_.round(2))"
   ]
  },
  {
   "cell_type": "markdown",
   "id": "90076d48",
   "metadata": {},
   "source": [
    "La ecuación del modelo es :  \n",
    "\n",
    "MEDV =   24.7   + 2.24 CHAS - 1.49 TAX_NORM  +0.09 AGE_NORM - 9.03 NOX_NORM - 0.25 INDUS_NORM + 3.43 RAD_NORM - 0.31 CRIM_R  +1.21 ZN_R + 2.46 RM_R - 4.69 DIS_R - 2.63 PTRATIO_R  +0.13 B_R -5.37 LSTAT_R"
   ]
  },
  {
   "cell_type": "markdown",
   "id": "09f822de",
   "metadata": {},
   "source": [
    "### Evaluación del modelo "
   ]
  },
  {
   "cell_type": "markdown",
   "id": "2aaf4e35",
   "metadata": {},
   "source": [
    "\n",
    "R2, el coeficiente de determinación, es una medida de la precisión general de un modelo de regresión, evalua lo bien que el modelo se ajusta a los datos reales. Es la proporción de la varianza total de la variable explicada por la regresión."
   ]
  },
  {
   "cell_type": "markdown",
   "id": "a0a728dc",
   "metadata": {},
   "source": [
    "MSE, el error cuadrático medio, básicamente mide el error cuadrado promedio de nuestras predicciones. Para cada punto, calcula la diferencia cuadrada entre las predicciones y el objetivo y luego promedia esos valores. Cuanto mayor sea este valor, peor es el modelo."
   ]
  },
  {
   "cell_type": "markdown",
   "id": "cd10cb44",
   "metadata": {},
   "source": [
    "### R2"
   ]
  },
  {
   "cell_type": "code",
   "execution_count": 32,
   "id": "0651780f",
   "metadata": {},
   "outputs": [
    {
     "name": "stdout",
     "output_type": "stream",
     "text": [
      "Metrica del modelo 0.72\n",
      "Metrica en test 0.77\n"
     ]
    }
   ],
   "source": [
    "score =round(modelo_mlr.score(X_train_new,y_train),2)\n",
    "print('Metrica del modelo', score)\n",
    "score_pred = round(modelo_mlr.score(X_test_new,y_test),2)\n",
    "print('Metrica en test', score_pred)"
   ]
  },
  {
   "cell_type": "markdown",
   "id": "3de250d7",
   "metadata": {},
   "source": [
    "### MSE"
   ]
  },
  {
   "cell_type": "code",
   "execution_count": 33,
   "id": "cb7ce604",
   "metadata": {},
   "outputs": [
    {
     "name": "stdout",
     "output_type": "stream",
     "text": [
      "Metrica del modelo 22.4\n",
      "Metrica en test 23.15\n"
     ]
    }
   ],
   "source": [
    "score =round(mean_squared_error(y_train, modelo_mlr.predict(X_train_new)),2)\n",
    "print('Metrica del modelo', score)\n",
    "score_pred =round(mean_squared_error(y_test, modelo_mlr.predict(X_test_new)),2)\n",
    "print('Metrica en test', score_pred)"
   ]
  },
  {
   "cell_type": "markdown",
   "id": "0b63fbae",
   "metadata": {},
   "source": [
    "### Predicciones con X_test_new"
   ]
  },
  {
   "cell_type": "code",
   "execution_count": 34,
   "id": "dce5f3e2",
   "metadata": {},
   "outputs": [],
   "source": [
    "comparar_mlr= pd.DataFrame(y_test)"
   ]
  },
  {
   "cell_type": "code",
   "execution_count": 35,
   "id": "c2161b46",
   "metadata": {},
   "outputs": [],
   "source": [
    "comparar_mlr['MEDV_predict']=modelo_mlr.predict(X_test_new)"
   ]
  },
  {
   "cell_type": "code",
   "execution_count": 36,
   "id": "ec4eebb4",
   "metadata": {
    "scrolled": true
   },
   "outputs": [
    {
     "data": {
      "text/html": [
       "<div>\n",
       "<style scoped>\n",
       "    .dataframe tbody tr th:only-of-type {\n",
       "        vertical-align: middle;\n",
       "    }\n",
       "\n",
       "    .dataframe tbody tr th {\n",
       "        vertical-align: top;\n",
       "    }\n",
       "\n",
       "    .dataframe thead th {\n",
       "        text-align: right;\n",
       "    }\n",
       "</style>\n",
       "<table border=\"1\" class=\"dataframe\">\n",
       "  <thead>\n",
       "    <tr style=\"text-align: right;\">\n",
       "      <th></th>\n",
       "      <th>MEDV</th>\n",
       "      <th>MEDV_predict</th>\n",
       "    </tr>\n",
       "  </thead>\n",
       "  <tbody>\n",
       "    <tr>\n",
       "      <th>307</th>\n",
       "      <td>28.2</td>\n",
       "      <td>32.662366</td>\n",
       "    </tr>\n",
       "    <tr>\n",
       "      <th>343</th>\n",
       "      <td>23.9</td>\n",
       "      <td>28.916918</td>\n",
       "    </tr>\n",
       "    <tr>\n",
       "      <th>47</th>\n",
       "      <td>16.6</td>\n",
       "      <td>17.139396</td>\n",
       "    </tr>\n",
       "    <tr>\n",
       "      <th>67</th>\n",
       "      <td>22.0</td>\n",
       "      <td>21.815655</td>\n",
       "    </tr>\n",
       "    <tr>\n",
       "      <th>362</th>\n",
       "      <td>20.8</td>\n",
       "      <td>17.958562</td>\n",
       "    </tr>\n",
       "    <tr>\n",
       "      <th>...</th>\n",
       "      <td>...</td>\n",
       "      <td>...</td>\n",
       "    </tr>\n",
       "    <tr>\n",
       "      <th>92</th>\n",
       "      <td>22.9</td>\n",
       "      <td>28.699312</td>\n",
       "    </tr>\n",
       "    <tr>\n",
       "      <th>224</th>\n",
       "      <td>44.8</td>\n",
       "      <td>37.936579</td>\n",
       "    </tr>\n",
       "    <tr>\n",
       "      <th>110</th>\n",
       "      <td>21.7</td>\n",
       "      <td>21.696240</td>\n",
       "    </tr>\n",
       "    <tr>\n",
       "      <th>426</th>\n",
       "      <td>10.2</td>\n",
       "      <td>17.101283</td>\n",
       "    </tr>\n",
       "    <tr>\n",
       "      <th>443</th>\n",
       "      <td>15.4</td>\n",
       "      <td>17.243740</td>\n",
       "    </tr>\n",
       "  </tbody>\n",
       "</table>\n",
       "<p>102 rows × 2 columns</p>\n",
       "</div>"
      ],
      "text/plain": [
       "     MEDV  MEDV_predict\n",
       "307  28.2     32.662366\n",
       "343  23.9     28.916918\n",
       "47   16.6     17.139396\n",
       "67   22.0     21.815655\n",
       "362  20.8     17.958562\n",
       "..    ...           ...\n",
       "92   22.9     28.699312\n",
       "224  44.8     37.936579\n",
       "110  21.7     21.696240\n",
       "426  10.2     17.101283\n",
       "443  15.4     17.243740\n",
       "\n",
       "[102 rows x 2 columns]"
      ]
     },
     "execution_count": 36,
     "metadata": {},
     "output_type": "execute_result"
    }
   ],
   "source": [
    "comparar_mlr"
   ]
  },
  {
   "cell_type": "code",
   "execution_count": 37,
   "id": "d3b16a25",
   "metadata": {
    "scrolled": true
   },
   "outputs": [
    {
     "data": {
      "text/html": [
       "<div>\n",
       "<style scoped>\n",
       "    .dataframe tbody tr th:only-of-type {\n",
       "        vertical-align: middle;\n",
       "    }\n",
       "\n",
       "    .dataframe tbody tr th {\n",
       "        vertical-align: top;\n",
       "    }\n",
       "\n",
       "    .dataframe thead th {\n",
       "        text-align: right;\n",
       "    }\n",
       "</style>\n",
       "<table border=\"1\" class=\"dataframe\">\n",
       "  <thead>\n",
       "    <tr style=\"text-align: right;\">\n",
       "      <th></th>\n",
       "      <th>MEDV</th>\n",
       "      <th>MEDV_predict</th>\n",
       "    </tr>\n",
       "  </thead>\n",
       "  <tbody>\n",
       "    <tr>\n",
       "      <th>count</th>\n",
       "      <td>102.000000</td>\n",
       "      <td>102.000000</td>\n",
       "    </tr>\n",
       "    <tr>\n",
       "      <th>mean</th>\n",
       "      <td>22.574510</td>\n",
       "      <td>22.973219</td>\n",
       "    </tr>\n",
       "    <tr>\n",
       "      <th>std</th>\n",
       "      <td>9.990289</td>\n",
       "      <td>7.624278</td>\n",
       "    </tr>\n",
       "    <tr>\n",
       "      <th>min</th>\n",
       "      <td>6.300000</td>\n",
       "      <td>6.504793</td>\n",
       "    </tr>\n",
       "    <tr>\n",
       "      <th>25%</th>\n",
       "      <td>16.275000</td>\n",
       "      <td>17.292915</td>\n",
       "    </tr>\n",
       "    <tr>\n",
       "      <th>50%</th>\n",
       "      <td>21.850000</td>\n",
       "      <td>22.228333</td>\n",
       "    </tr>\n",
       "    <tr>\n",
       "      <th>75%</th>\n",
       "      <td>24.100000</td>\n",
       "      <td>26.886263</td>\n",
       "    </tr>\n",
       "    <tr>\n",
       "      <th>max</th>\n",
       "      <td>50.000000</td>\n",
       "      <td>42.734474</td>\n",
       "    </tr>\n",
       "  </tbody>\n",
       "</table>\n",
       "</div>"
      ],
      "text/plain": [
       "             MEDV  MEDV_predict\n",
       "count  102.000000    102.000000\n",
       "mean    22.574510     22.973219\n",
       "std      9.990289      7.624278\n",
       "min      6.300000      6.504793\n",
       "25%     16.275000     17.292915\n",
       "50%     21.850000     22.228333\n",
       "75%     24.100000     26.886263\n",
       "max     50.000000     42.734474"
      ]
     },
     "execution_count": 37,
     "metadata": {},
     "output_type": "execute_result"
    }
   ],
   "source": [
    "comparar_mlr.describe()"
   ]
  },
  {
   "cell_type": "code",
   "execution_count": 38,
   "id": "6a9224d4",
   "metadata": {},
   "outputs": [
    {
     "data": {
      "image/png": "[encoded data removed]",
      "text/plain": [
       "<Figure size 640x480 with 1 Axes>"
      ]
     },
     "metadata": {},
     "output_type": "display_data"
    }
   ],
   "source": [
    "sns.regplot(data=comparar_mlr,x=comparar_mlr['MEDV'],y=comparar_mlr['MEDV_predict'])\n",
    "X_plot = np.linspace(0, 50, 50)\n",
    "Y_plot = X_plot\n",
    "plt.title('Gráfico de evaluación del modelo de regresión')\n",
    "plt.plot(X_plot, Y_plot, color='r')\n",
    "plt.show()\n"
   ]
  },
  {
   "cell_type": "code",
   "execution_count": 39,
   "id": "733be7a7",
   "metadata": {
    "scrolled": true
   },
   "outputs": [
    {
     "data": {
      "image/png": "[encoded data removed]",
      "text/plain": [
       "<Figure size 500x500 with 6 Axes>"
      ]
     },
     "metadata": {},
     "output_type": "display_data"
    }
   ],
   "source": [
    "sns.pairplot(comparar_mlr)\n",
    "plt.show()"
   ]
  },
  {
   "cell_type": "markdown",
   "id": "30bdd807",
   "metadata": {},
   "source": [
    "A la vista del coeficiente R2 del 77% y de las gráficas, parece que el modelo es bastante preciso."
   ]
  },
  {
   "cell_type": "markdown",
   "id": "071b15e7",
   "metadata": {},
   "source": [
    "## Arbol de regresión"
   ]
  },
  {
   "cell_type": "markdown",
   "id": "10a56ee3",
   "metadata": {},
   "source": [
    "Creamos el modelo :"
   ]
  },
  {
   "cell_type": "code",
   "execution_count": 40,
   "id": "225e1045",
   "metadata": {},
   "outputs": [
    {
     "data": {
      "text/plain": [
       "DecisionTreeRegressor()"
      ]
     },
     "execution_count": 40,
     "metadata": {},
     "output_type": "execute_result"
    }
   ],
   "source": [
    "modelo_tree = DecisionTreeRegressor()\n",
    "modelo_tree.fit(X_train_new, y_train)"
   ]
  },
  {
   "cell_type": "code",
   "execution_count": 41,
   "id": "4fb4d345",
   "metadata": {},
   "outputs": [
    {
     "data": {
      "text/plain": [
       "17"
      ]
     },
     "execution_count": 41,
     "metadata": {},
     "output_type": "execute_result"
    }
   ],
   "source": [
    "modelo_tree.get_depth()"
   ]
  },
  {
   "cell_type": "code",
   "execution_count": 42,
   "id": "eb2b3d4d",
   "metadata": {},
   "outputs": [
    {
     "data": {
      "text/plain": [
       "378"
      ]
     },
     "execution_count": 42,
     "metadata": {},
     "output_type": "execute_result"
    }
   ],
   "source": [
    "modelo_tree.get_n_leaves()"
   ]
  },
  {
   "cell_type": "code",
   "execution_count": 43,
   "id": "5841ab85",
   "metadata": {},
   "outputs": [
    {
     "data": {
      "text/plain": [
       "array([3.04087712e-03, 7.09125329e-03, 1.18966917e-02, 3.50335415e-02,\n",
       "       8.91209607e-03, 4.77841029e-04, 2.35210660e-02, 5.76383484e-04,\n",
       "       2.72621498e-01, 7.67729981e-02, 2.07502737e-02, 5.62888324e-03,\n",
       "       5.33676597e-01])"
      ]
     },
     "execution_count": 43,
     "metadata": {},
     "output_type": "execute_result"
    }
   ],
   "source": [
    "modelo_tree.feature_importances_"
   ]
  },
  {
   "cell_type": "markdown",
   "id": "4ed86629",
   "metadata": {},
   "source": [
    "El árbol de decisión obtenido consta de 17 niveles y 378 hojas, es decir prácticamente una hoja por elemento del conjunto X_train que son 404."
   ]
  },
  {
   "cell_type": "markdown",
   "id": "356adc58",
   "metadata": {},
   "source": [
    "## Evaluación del modelo"
   ]
  },
  {
   "cell_type": "markdown",
   "id": "bd4beb9e",
   "metadata": {},
   "source": [
    "### R2"
   ]
  },
  {
   "cell_type": "code",
   "execution_count": 44,
   "id": "52aace91",
   "metadata": {},
   "outputs": [
    {
     "name": "stdout",
     "output_type": "stream",
     "text": [
      "Metrica del modelo 1.0\n",
      "Metrica en test 0.67\n"
     ]
    }
   ],
   "source": [
    "score =round(modelo_tree.score(X_train_new,y_train),2)\n",
    "print('Metrica del modelo', score)\n",
    "score_pred = round(modelo_tree.score(X_test_new,y_test),2)\n",
    "print('Metrica en test', score_pred)"
   ]
  },
  {
   "cell_type": "markdown",
   "id": "6b7ae223",
   "metadata": {},
   "source": [
    "### MSE"
   ]
  },
  {
   "cell_type": "code",
   "execution_count": 45,
   "id": "78a70f68",
   "metadata": {},
   "outputs": [
    {
     "name": "stdout",
     "output_type": "stream",
     "text": [
      "Metrica del modelo 0.0\n",
      "Metrica en test 32.16\n"
     ]
    }
   ],
   "source": [
    "score =round(mean_squared_error(y_train, modelo_tree.predict(X_train_new)),2)\n",
    "print('Metrica del modelo', score)\n",
    "score_pred =round(mean_squared_error(y_test, modelo_tree.predict(X_test_new)),2)\n",
    "print('Metrica en test', score_pred)"
   ]
  },
  {
   "cell_type": "markdown",
   "id": "46f5e37d",
   "metadata": {},
   "source": [
    "Tenemos un R2 del 100% en el conjunto de entrenamiento, en cambio tenemos un coeficiente del 67% en el test.\n",
    "Al no haber facilitado ningún parámetro al modelo, el algoritmo separa el conjunto de entrenamiento hasta la unidad, debido a lo cual su profundidad aumenta y muy probablemente sufre overfitting."
   ]
  },
  {
   "cell_type": "markdown",
   "id": "978b0fff",
   "metadata": {},
   "source": [
    "## EXERCICI 2"
   ]
  },
  {
   "cell_type": "markdown",
   "id": "9c21608d",
   "metadata": {},
   "source": [
    "Comparamos los dos modelos en base a los coeficientes calculados anteriormente.\n",
    "\n",
    "El coeficiente de regresión del modelo de regresión linear en test es superior al árbol de regresión (77% versus 67%), lo cual nos indica que el modelo de regresión linear es más preciso.\n",
    "\n",
    "Por otra parte el error cuadrático medio es superior en el caso del árbol de regresión (32,16 versus 23,15), lo cual nos confirma que el modelo de regresión linear es mejor.\n",
    "\n"
   ]
  },
  {
   "cell_type": "markdown",
   "id": "493b0aef",
   "metadata": {},
   "source": [
    "## EXERCICI 3"
   ]
  },
  {
   "cell_type": "markdown",
   "id": "7301ec79",
   "metadata": {},
   "source": [
    "Intentamos mejorar la predicción con un tuning de los parámetros que admiten los modelos :"
   ]
  },
  {
   "cell_type": "markdown",
   "id": "d05ef420",
   "metadata": {},
   "source": [
    "### Regresión lineal múltiple"
   ]
  },
  {
   "cell_type": "code",
   "execution_count": 46,
   "id": "8765579c",
   "metadata": {
    "scrolled": true
   },
   "outputs": [
    {
     "data": {
      "text/plain": [
       "{'copy_X': True,\n",
       " 'fit_intercept': True,\n",
       " 'n_jobs': None,\n",
       " 'normalize': 'deprecated',\n",
       " 'positive': False}"
      ]
     },
     "execution_count": 46,
     "metadata": {},
     "output_type": "execute_result"
    }
   ],
   "source": [
    "LinearRegression().get_params()"
   ]
  },
  {
   "cell_type": "markdown",
   "id": "246024fe",
   "metadata": {},
   "source": [
    "Buscamos los mejores parámetros con GridsearchCV :"
   ]
  },
  {
   "cell_type": "markdown",
   "id": "9d14c8c0",
   "metadata": {},
   "source": [
    "### GridsearchCV "
   ]
  },
  {
   "cell_type": "code",
   "execution_count": 47,
   "id": "fc0edeca",
   "metadata": {},
   "outputs": [
    {
     "data": {
      "text/plain": [
       "GridSearchCV(estimator=LinearRegression(),\n",
       "             param_grid={'fit_intercept': [True, False],\n",
       "                         'positive': [True, False]})"
      ]
     },
     "execution_count": 47,
     "metadata": {},
     "output_type": "execute_result"
    }
   ],
   "source": [
    "fit_intercept = [True, False]\n",
    "positive=[True, False]\n",
    "grid_mlr = GridSearchCV(estimator=modelo_mlr,param_grid=dict(fit_intercept = fit_intercept,positive=positive))\n",
    "grid_mlr.fit(X_train_new, y_train)"
   ]
  },
  {
   "cell_type": "code",
   "execution_count": 48,
   "id": "c76ad820",
   "metadata": {
    "scrolled": false
   },
   "outputs": [
    {
     "data": {
      "text/plain": [
       "{'copy_X': True,\n",
       " 'fit_intercept': True,\n",
       " 'n_jobs': None,\n",
       " 'normalize': 'deprecated',\n",
       " 'positive': False}"
      ]
     },
     "execution_count": 48,
     "metadata": {},
     "output_type": "execute_result"
    }
   ],
   "source": [
    "grid_mlr.best_estimator_.get_params()"
   ]
  },
  {
   "cell_type": "markdown",
   "id": "8fbed8db",
   "metadata": {},
   "source": [
    "Los mejores parámetros son los parámetros aplicado por defecto en el modelo original, de forma que el modelo no es mejorable."
   ]
  },
  {
   "cell_type": "markdown",
   "id": "a790ac9a",
   "metadata": {},
   "source": [
    "### Arbol de decisión"
   ]
  },
  {
   "cell_type": "code",
   "execution_count": 49,
   "id": "6780cf79",
   "metadata": {
    "scrolled": false
   },
   "outputs": [
    {
     "data": {
      "text/plain": [
       "{'ccp_alpha': 0.0,\n",
       " 'criterion': 'squared_error',\n",
       " 'max_depth': None,\n",
       " 'max_features': None,\n",
       " 'max_leaf_nodes': None,\n",
       " 'min_impurity_decrease': 0.0,\n",
       " 'min_samples_leaf': 1,\n",
       " 'min_samples_split': 2,\n",
       " 'min_weight_fraction_leaf': 0.0,\n",
       " 'random_state': None,\n",
       " 'splitter': 'best'}"
      ]
     },
     "execution_count": 49,
     "metadata": {},
     "output_type": "execute_result"
    }
   ],
   "source": [
    "modelo_tree.get_params()"
   ]
  },
  {
   "cell_type": "markdown",
   "id": "d1962687",
   "metadata": {},
   "source": [
    "### GridsearchCV (parameters)"
   ]
  },
  {
   "cell_type": "markdown",
   "id": "4545adc4",
   "metadata": {},
   "source": [
    "Buscamos los mejores parámetros que configuren el árbol de decisión :"
   ]
  },
  {
   "cell_type": "code",
   "execution_count": 50,
   "id": "85ac8f87",
   "metadata": {},
   "outputs": [
    {
     "data": {
      "text/plain": [
       "GridSearchCV(estimator=DecisionTreeRegressor(),\n",
       "             param_grid={'max_depth': [1, 2, 3, 4, 5, 6, 7, 8, 9, 10, 11, 12,\n",
       "                                       13, 14, 15, 16, 17],\n",
       "                         'max_features': ['auto', 'log2', 'sqrt', None],\n",
       "                         'max_leaf_nodes': [None, 10, 20, 30, 40, 50, 60, 70,\n",
       "                                            80, 90],\n",
       "                         'min_samples_leaf': [1, 2, 3, 4, 5, 6, 7, 8, 9, 10],\n",
       "                         'min_weight_fraction_leaf': [0.1, 0.2, 0.3, 0.4, 0.5],\n",
       "                         'splitter': ['best', 'random']})"
      ]
     },
     "execution_count": 50,
     "metadata": {},
     "output_type": "execute_result"
    }
   ],
   "source": [
    "parameters={\"splitter\":[\"best\",\"random\"],\n",
    "            \"max_depth\" : [1,2,3,4,5,6,7,8,9,10,11,12,13,14,15,16,17],\n",
    "            \"min_samples_leaf\":[1,2,3,4,5,6,7,8,9,10],\n",
    "            \"min_weight_fraction_leaf\":[0.1,0.2,0.3,0.4,0.5],\n",
    "            \"max_features\":[\"auto\",\"log2\",\"sqrt\",None],\n",
    "            \"max_leaf_nodes\":[None,10,20,30,40,50,60,70,80,90] }\n",
    "grid_tree = GridSearchCV(estimator=modelo_tree,param_grid=parameters)\n",
    "grid_tree.fit(X_train_new, y_train)"
   ]
  },
  {
   "cell_type": "code",
   "execution_count": 51,
   "id": "3c573a12",
   "metadata": {},
   "outputs": [
    {
     "data": {
      "text/plain": [
       "{'ccp_alpha': 0.0,\n",
       " 'criterion': 'squared_error',\n",
       " 'max_depth': 4,\n",
       " 'max_features': 'auto',\n",
       " 'max_leaf_nodes': None,\n",
       " 'min_impurity_decrease': 0.0,\n",
       " 'min_samples_leaf': 4,\n",
       " 'min_samples_split': 2,\n",
       " 'min_weight_fraction_leaf': 0.1,\n",
       " 'random_state': None,\n",
       " 'splitter': 'best'}"
      ]
     },
     "execution_count": 51,
     "metadata": {},
     "output_type": "execute_result"
    }
   ],
   "source": [
    "grid_tree.best_estimator_.get_params()"
   ]
  },
  {
   "cell_type": "markdown",
   "id": "53203942",
   "metadata": {},
   "source": [
    "Creamos un nuevo árbol de decisión con los parámetros propuestos :"
   ]
  },
  {
   "cell_type": "code",
   "execution_count": 56,
   "id": "947bf857",
   "metadata": {},
   "outputs": [
    {
     "data": {
      "text/plain": [
       "DecisionTreeRegressor(max_depth=4, max_features='auto', min_samples_leaf=4,\n",
       "                      min_weight_fraction_leaf=0.1)"
      ]
     },
     "execution_count": 56,
     "metadata": {},
     "output_type": "execute_result"
    }
   ],
   "source": [
    "modelo_tree_params=DecisionTreeRegressor(max_depth=4,max_features='auto',\n",
    "    max_leaf_nodes=None,min_samples_leaf=4,min_samples_split=2,min_weight_fraction_leaf=0.1,splitter='best')\n",
    "modelo_tree_params.fit(X_train_new,y_train)\n"
   ]
  },
  {
   "cell_type": "code",
   "execution_count": 57,
   "id": "50c42207",
   "metadata": {
    "scrolled": true
   },
   "outputs": [
    {
     "data": {
      "text/plain": [
       "4"
      ]
     },
     "execution_count": 57,
     "metadata": {},
     "output_type": "execute_result"
    }
   ],
   "source": [
    "modelo_tree_params.get_depth()"
   ]
  },
  {
   "cell_type": "code",
   "execution_count": 59,
   "id": "1cfe8578",
   "metadata": {},
   "outputs": [
    {
     "data": {
      "text/plain": [
       "8"
      ]
     },
     "execution_count": 59,
     "metadata": {},
     "output_type": "execute_result"
    }
   ],
   "source": [
    "modelo_tree_params.get_n_leaves()"
   ]
  },
  {
   "cell_type": "markdown",
   "id": "d54b1958",
   "metadata": {},
   "source": [
    "Tenemos ahora un modelo mucho más reducido de profunidad 4 y 8 hojas."
   ]
  },
  {
   "cell_type": "code",
   "execution_count": 60,
   "id": "5dd2bbfc",
   "metadata": {},
   "outputs": [
    {
     "data": {
      "text/plain": [
       "True"
      ]
     },
     "execution_count": 60,
     "metadata": {},
     "output_type": "execute_result"
    }
   ],
   "source": [
    "import pydotplus\n",
    "from sklearn.tree import export_graphviz\n",
    "from pydotplus import graph_from_dot_data\n",
    "dot_data = export_graphviz(modelo_tree_params)\n",
    "graph = graph_from_dot_data(dot_data)\n",
    "graph.write_png('tree.png')"
   ]
  },
  {
   "cell_type": "code",
   "execution_count": 61,
   "id": "f7452f62",
   "metadata": {},
   "outputs": [],
   "source": [
    "from IPython.display import Image"
   ]
  },
  {
   "cell_type": "code",
   "execution_count": 62,
   "id": "efd5792c",
   "metadata": {},
   "outputs": [
    {
     "data": {
      "image/png": "[encoded data removed]",
      "text/plain": [
       "<IPython.core.display.Image object>"
      ]
     },
     "execution_count": 62,
     "metadata": {},
     "output_type": "execute_result"
    }
   ],
   "source": [
    "Image('tree.png')"
   ]
  },
  {
   "cell_type": "markdown",
   "id": "d0945c58",
   "metadata": {},
   "source": [
    "### Evaluación del modelo "
   ]
  },
  {
   "cell_type": "markdown",
   "id": "328f673c",
   "metadata": {},
   "source": [
    "### R2"
   ]
  },
  {
   "cell_type": "code",
   "execution_count": 63,
   "id": "3dff81f8",
   "metadata": {},
   "outputs": [
    {
     "name": "stdout",
     "output_type": "stream",
     "text": [
      "Metrica del modelo 0.74\n",
      "Metrica en test 0.77\n"
     ]
    }
   ],
   "source": [
    "score =round(modelo_tree_params.score(X_train_new,y_train),2)\n",
    "print('Metrica del modelo', score)\n",
    "score_pred = round(modelo_tree_params.score(X_test_new,y_test),2)\n",
    "print('Metrica en test', score_pred)"
   ]
  },
  {
   "cell_type": "markdown",
   "id": "096d4e9b",
   "metadata": {},
   "source": [
    "### MSE"
   ]
  },
  {
   "cell_type": "code",
   "execution_count": 64,
   "id": "682b7693",
   "metadata": {
    "scrolled": true
   },
   "outputs": [
    {
     "name": "stdout",
     "output_type": "stream",
     "text": [
      "Metrica del modelo 21.07\n",
      "Metrica en test 22.64\n"
     ]
    }
   ],
   "source": [
    "score =round(mean_squared_error(y_train, modelo_tree_params.predict(X_train_new)),2)\n",
    "print('Metrica del modelo', score)\n",
    "score_pred =round(mean_squared_error(y_test, modelo_tree_params.predict(X_test_new)),2)\n",
    "print('Metrica en test', score_pred)"
   ]
  },
  {
   "cell_type": "markdown",
   "id": "2c11379b",
   "metadata": {},
   "source": [
    "Vemos ahora que el modelo ha mejorado sustancialmente, el R2 en test es ahora del 77% (igual que el modelo de regresión linear), y MSE es de 22,64 algo inferior al de regresión linear."
   ]
  },
  {
   "cell_type": "code",
   "execution_count": 135,
   "id": "8087fb86",
   "metadata": {},
   "outputs": [
    {
     "data": {
      "text/plain": [
       "array([0.        , 0.00619063, 0.        , 0.03191749, 0.03185717,\n",
       "       0.        , 0.        , 0.        , 0.        , 0.        ,\n",
       "       0.01214677, 0.91788795])"
      ]
     },
     "execution_count": 135,
     "metadata": {},
     "output_type": "execute_result"
    }
   ],
   "source": [
    "modelo_tree_params.feature_importances_"
   ]
  },
  {
   "cell_type": "markdown",
   "id": "49700ea9",
   "metadata": {},
   "source": [
    "### Gridsearch (alpha)"
   ]
  },
  {
   "cell_type": "markdown",
   "id": "6c749a44",
   "metadata": {},
   "source": [
    "Buscamos mejorar el modelo a través de la pptimización del parámetro alpha :"
   ]
  },
  {
   "cell_type": "code",
   "execution_count": 65,
   "id": "1f6da174",
   "metadata": {},
   "outputs": [],
   "source": [
    "path=modelo_tree.cost_complexity_pruning_path(X_train_new, y_train)\n",
    "ccp_alphas, impurities = path.ccp_alphas, path.impurities"
   ]
  },
  {
   "cell_type": "code",
   "execution_count": 66,
   "id": "aab3f2e2",
   "metadata": {
    "scrolled": true
   },
   "outputs": [
    {
     "data": {
      "text/plain": [
       "Text(0.5, 1.0, 'Total Impurity vs effective alpha for training set')"
      ]
     },
     "execution_count": 66,
     "metadata": {},
     "output_type": "execute_result"
    },
    {
     "data": {
      "image/png": "[encoded data removed]",
      "text/plain": [
       "<Figure size 640x480 with 1 Axes>"
      ]
     },
     "metadata": {},
     "output_type": "display_data"
    }
   ],
   "source": [
    "fig, ax = plt.subplots()\n",
    "ax.plot(ccp_alphas[:-1], impurities[:-1], marker=\"o\", drawstyle=\"steps-post\")\n",
    "ax.set_xlabel(\"effective alpha\")\n",
    "ax.set_ylabel(\"total impurity of leaves\")\n",
    "ax.set_title(\"Total Impurity vs effective alpha for training set\")"
   ]
  },
  {
   "cell_type": "code",
   "execution_count": 67,
   "id": "ffdf4887",
   "metadata": {},
   "outputs": [
    {
     "name": "stdout",
     "output_type": "stream",
     "text": [
      "Number of nodes in the last tree is: 3 with ccp_alpha: 36.62396523865658\n"
     ]
    }
   ],
   "source": [
    "clfs = []\n",
    "for ccp_alpha in ccp_alphas:\n",
    "    clf = DecisionTreeRegressor(random_state=0, ccp_alpha=ccp_alpha)\n",
    "    clf.fit(X_train_new, y_train)\n",
    "    clfs.append(clf)\n",
    "print(\n",
    "    \"Number of nodes in the last tree is: {} with ccp_alpha: {}\".format(\n",
    "        clfs[-1].tree_.node_count, ccp_alphas[-1]\n",
    "    )\n",
    ")"
   ]
  },
  {
   "cell_type": "code",
   "execution_count": 68,
   "id": "2506defe",
   "metadata": {},
   "outputs": [
    {
     "data": {
      "image/png": "[encoded data removed]",
      "text/plain": [
       "<Figure size 640x480 with 2 Axes>"
      ]
     },
     "metadata": {},
     "output_type": "display_data"
    }
   ],
   "source": [
    "clfs = clfs[:-1]\n",
    "ccp_alphas = ccp_alphas[:-1]\n",
    "\n",
    "node_counts = [clf.tree_.node_count for clf in clfs]\n",
    "depth = [clf.tree_.max_depth for clf in clfs]\n",
    "fig, ax = plt.subplots(2, 1)\n",
    "ax[0].plot(ccp_alphas, node_counts, marker=\"o\", drawstyle=\"steps-post\")\n",
    "ax[0].set_xlabel(\"alpha\")\n",
    "ax[0].set_ylabel(\"number of nodes\")\n",
    "ax[0].set_title(\"Number of nodes vs alpha\")\n",
    "ax[1].plot(ccp_alphas, depth, marker=\"o\", drawstyle=\"steps-post\")\n",
    "ax[1].set_xlabel(\"alpha\")\n",
    "ax[1].set_ylabel(\"depth of tree\")\n",
    "ax[1].set_title(\"Depth vs alpha\")\n",
    "fig.tight_layout()"
   ]
  },
  {
   "cell_type": "code",
   "execution_count": 69,
   "id": "615a67ae",
   "metadata": {},
   "outputs": [
    {
     "data": {
      "image/png": "[encoded data removed]",
      "text/plain": [
       "<Figure size 640x480 with 1 Axes>"
      ]
     },
     "metadata": {},
     "output_type": "display_data"
    }
   ],
   "source": [
    "train_scores = [clf.score(X_train_new, y_train) for clf in clfs]\n",
    "test_scores = [clf.score(X_test_new, y_test) for clf in clfs]\n",
    "\n",
    "fig, ax = plt.subplots()\n",
    "ax.set_xlabel(\"alpha\")\n",
    "ax.set_ylabel(\"accuracy\")\n",
    "ax.set_title(\"Accuracy vs alpha for training and testing sets\")\n",
    "ax.plot(ccp_alphas, train_scores, marker=\"o\", label=\"train\", drawstyle=\"steps-post\")\n",
    "ax.plot(ccp_alphas, test_scores, marker=\"o\", label=\"test\", drawstyle=\"steps-post\")\n",
    "ax.legend()\n",
    "plt.show()"
   ]
  },
  {
   "cell_type": "markdown",
   "id": "502cbfc9",
   "metadata": {},
   "source": [
    "Esta gráfica nos enseña que el parámetro alpha óptimo es 2, creamos un arbol de regresión con este parámetro :"
   ]
  },
  {
   "cell_type": "code",
   "execution_count": 70,
   "id": "9e006e18",
   "metadata": {},
   "outputs": [
    {
     "data": {
      "text/plain": [
       "DecisionTreeRegressor(ccp_alpha=2)"
      ]
     },
     "execution_count": 70,
     "metadata": {},
     "output_type": "execute_result"
    }
   ],
   "source": [
    "modelo_tree_alpha=DecisionTreeRegressor(ccp_alpha=2)\n",
    "modelo_tree_alpha.fit(X_train_new,y_train)"
   ]
  },
  {
   "cell_type": "markdown",
   "id": "2985886b",
   "metadata": {},
   "source": [
    "### R2"
   ]
  },
  {
   "cell_type": "code",
   "execution_count": 71,
   "id": "a48d0d99",
   "metadata": {},
   "outputs": [
    {
     "name": "stdout",
     "output_type": "stream",
     "text": [
      "Metrica del modelo 0.81\n",
      "Metrica en test 0.84\n"
     ]
    }
   ],
   "source": [
    "score =round(modelo_tree_alpha.score(X_train_new,y_train),2)\n",
    "print('Metrica del modelo', score)\n",
    "score_pred = round(modelo_tree_alpha.score(X_test_new,y_test),2)\n",
    "print('Metrica en test', score_pred)"
   ]
  },
  {
   "cell_type": "markdown",
   "id": "a21f86cc",
   "metadata": {},
   "source": [
    "### MSE"
   ]
  },
  {
   "cell_type": "code",
   "execution_count": 72,
   "id": "5982b3fe",
   "metadata": {
    "scrolled": false
   },
   "outputs": [
    {
     "name": "stdout",
     "output_type": "stream",
     "text": [
      "Metrica del modelo 15.47\n",
      "Metrica en test 15.51\n"
     ]
    }
   ],
   "source": [
    "score =round(mean_squared_error(y_train, modelo_tree_alpha.predict(X_train_new)),2)\n",
    "print('Metrica del modelo', score)\n",
    "score_pred =round(mean_squared_error(y_test, modelo_tree_alpha.predict(X_test_new)),2)\n",
    "print('Metrica en test', score_pred)"
   ]
  },
  {
   "cell_type": "markdown",
   "id": "14b6d23a",
   "metadata": {},
   "source": [
    "Los resultados obtenidos son aún mejores que en el caso anterior y indican que posiblemente este sea el mejor modelo de todos con un R2 del 84% y MSE de 15,51."
   ]
  },
  {
   "cell_type": "markdown",
   "id": "5e9b5a2c",
   "metadata": {},
   "source": [
    "Representamos el modelo :"
   ]
  },
  {
   "cell_type": "code",
   "execution_count": 73,
   "id": "ff239c3a",
   "metadata": {},
   "outputs": [],
   "source": [
    "comparar_tree_alpha=pd.DataFrame(y_test)"
   ]
  },
  {
   "cell_type": "code",
   "execution_count": 74,
   "id": "77cb7f25",
   "metadata": {},
   "outputs": [],
   "source": [
    "comparar_tree_alpha['MEDV_predict']=modelo_tree_alpha.predict(X_test_new)"
   ]
  },
  {
   "cell_type": "code",
   "execution_count": 75,
   "id": "c87aeabd",
   "metadata": {},
   "outputs": [
    {
     "data": {
      "text/html": [
       "<div>\n",
       "<style scoped>\n",
       "    .dataframe tbody tr th:only-of-type {\n",
       "        vertical-align: middle;\n",
       "    }\n",
       "\n",
       "    .dataframe tbody tr th {\n",
       "        vertical-align: top;\n",
       "    }\n",
       "\n",
       "    .dataframe thead th {\n",
       "        text-align: right;\n",
       "    }\n",
       "</style>\n",
       "<table border=\"1\" class=\"dataframe\">\n",
       "  <thead>\n",
       "    <tr style=\"text-align: right;\">\n",
       "      <th></th>\n",
       "      <th>MEDV</th>\n",
       "      <th>MEDV_predict</th>\n",
       "    </tr>\n",
       "  </thead>\n",
       "  <tbody>\n",
       "    <tr>\n",
       "      <th>307</th>\n",
       "      <td>28.2</td>\n",
       "      <td>31.360345</td>\n",
       "    </tr>\n",
       "    <tr>\n",
       "      <th>343</th>\n",
       "      <td>23.9</td>\n",
       "      <td>31.360345</td>\n",
       "    </tr>\n",
       "    <tr>\n",
       "      <th>47</th>\n",
       "      <td>16.6</td>\n",
       "      <td>14.411966</td>\n",
       "    </tr>\n",
       "    <tr>\n",
       "      <th>67</th>\n",
       "      <td>22.0</td>\n",
       "      <td>23.745882</td>\n",
       "    </tr>\n",
       "    <tr>\n",
       "      <th>362</th>\n",
       "      <td>20.8</td>\n",
       "      <td>20.343220</td>\n",
       "    </tr>\n",
       "    <tr>\n",
       "      <th>...</th>\n",
       "      <td>...</td>\n",
       "      <td>...</td>\n",
       "    </tr>\n",
       "    <tr>\n",
       "      <th>92</th>\n",
       "      <td>22.9</td>\n",
       "      <td>23.745882</td>\n",
       "    </tr>\n",
       "    <tr>\n",
       "      <th>224</th>\n",
       "      <td>44.8</td>\n",
       "      <td>44.318182</td>\n",
       "    </tr>\n",
       "    <tr>\n",
       "      <th>110</th>\n",
       "      <td>21.7</td>\n",
       "      <td>20.343220</td>\n",
       "    </tr>\n",
       "    <tr>\n",
       "      <th>426</th>\n",
       "      <td>10.2</td>\n",
       "      <td>20.343220</td>\n",
       "    </tr>\n",
       "    <tr>\n",
       "      <th>443</th>\n",
       "      <td>15.4</td>\n",
       "      <td>14.411966</td>\n",
       "    </tr>\n",
       "  </tbody>\n",
       "</table>\n",
       "<p>102 rows × 2 columns</p>\n",
       "</div>"
      ],
      "text/plain": [
       "     MEDV  MEDV_predict\n",
       "307  28.2     31.360345\n",
       "343  23.9     31.360345\n",
       "47   16.6     14.411966\n",
       "67   22.0     23.745882\n",
       "362  20.8     20.343220\n",
       "..    ...           ...\n",
       "92   22.9     23.745882\n",
       "224  44.8     44.318182\n",
       "110  21.7     20.343220\n",
       "426  10.2     20.343220\n",
       "443  15.4     14.411966\n",
       "\n",
       "[102 rows x 2 columns]"
      ]
     },
     "execution_count": 75,
     "metadata": {},
     "output_type": "execute_result"
    }
   ],
   "source": [
    "comparar_tree_alpha"
   ]
  },
  {
   "cell_type": "code",
   "execution_count": 76,
   "id": "6529fb02",
   "metadata": {},
   "outputs": [
    {
     "data": {
      "image/png": "[encoded data removed]",
      "text/plain": [
       "<Figure size 640x480 with 1 Axes>"
      ]
     },
     "metadata": {},
     "output_type": "display_data"
    }
   ],
   "source": [
    "sns.regplot(data=comparar_tree_alpha,x=comparar_tree_alpha['MEDV'],y=comparar_tree_alpha['MEDV_predict'])\n",
    "X_plot = np.linspace(0, 50, 50)\n",
    "Y_plot = X_plot\n",
    "plt.plot(X_plot, Y_plot, color='r')\n",
    "plt.show()"
   ]
  },
  {
   "cell_type": "code",
   "execution_count": 77,
   "id": "bc2ae974",
   "metadata": {},
   "outputs": [
    {
     "data": {
      "text/plain": [
       "4"
      ]
     },
     "execution_count": 77,
     "metadata": {},
     "output_type": "execute_result"
    }
   ],
   "source": [
    "modelo_tree_alpha.get_depth()"
   ]
  },
  {
   "cell_type": "code",
   "execution_count": 78,
   "id": "cbcaacb5",
   "metadata": {},
   "outputs": [
    {
     "data": {
      "text/plain": [
       "6"
      ]
     },
     "execution_count": 78,
     "metadata": {},
     "output_type": "execute_result"
    }
   ],
   "source": [
    "modelo_tree_alpha.get_n_leaves()"
   ]
  },
  {
   "cell_type": "code",
   "execution_count": 79,
   "id": "3a69a4a7",
   "metadata": {},
   "outputs": [
    {
     "data": {
      "text/plain": [
       "True"
      ]
     },
     "execution_count": 79,
     "metadata": {},
     "output_type": "execute_result"
    }
   ],
   "source": [
    "dot_data= export_graphviz(modelo_tree_alpha)\n",
    "graph_alpha = graph_from_dot_data(dot_data)\n",
    "graph_alpha.write_png('tree_alpha.png')"
   ]
  },
  {
   "cell_type": "code",
   "execution_count": 80,
   "id": "2eea9688",
   "metadata": {
    "scrolled": true
   },
   "outputs": [
    {
     "data": {
      "image/png": "[encoded data removed]",
      "text/plain": [
       "<IPython.core.display.Image object>"
      ]
     },
     "execution_count": 80,
     "metadata": {},
     "output_type": "execute_result"
    }
   ],
   "source": [
    "Image('tree_alpha.png')"
   ]
  },
  {
   "cell_type": "code",
   "execution_count": 81,
   "id": "597c4f50",
   "metadata": {
    "scrolled": true
   },
   "outputs": [
    {
     "data": {
      "text/plain": [
       "array([0.        , 0.        , 0.        , 0.        , 0.        ,\n",
       "       0.        , 0.        , 0.        , 0.28176008, 0.07914201,\n",
       "       0.        , 0.        , 0.63909791])"
      ]
     },
     "execution_count": 81,
     "metadata": {},
     "output_type": "execute_result"
    }
   ],
   "source": [
    "modelo_tree_alpha.feature_importances_"
   ]
  },
  {
   "cell_type": "markdown",
   "id": "bb14d6a7",
   "metadata": {},
   "source": [
    "Vemos que las variables decisivas en este modelo son LSTAT (0,64), RM(0,28) y DIS(0,08)."
   ]
  },
  {
   "cell_type": "markdown",
   "id": "7d9ac105",
   "metadata": {},
   "source": [
    "## EXERCICI 4"
   ]
  },
  {
   "cell_type": "markdown",
   "id": "1dc0d9f0",
   "metadata": {},
   "source": [
    "Aplicamos la transformación a todo el dataset previamente a aplicar la técnica de Cross Validation :"
   ]
  },
  {
   "cell_type": "code",
   "execution_count": 82,
   "id": "1391a4dd",
   "metadata": {},
   "outputs": [],
   "source": [
    "X=pd.DataFrame()"
   ]
  },
  {
   "cell_type": "code",
   "execution_count": 83,
   "id": "19256d8b",
   "metadata": {},
   "outputs": [],
   "source": [
    "Housing['RAD_9']=Housing['RAD']"
   ]
  },
  {
   "cell_type": "code",
   "execution_count": 84,
   "id": "b56cfbea",
   "metadata": {},
   "outputs": [],
   "source": [
    "Housing.loc[Housing['RAD_9']==24,'RAD']=9"
   ]
  },
  {
   "cell_type": "markdown",
   "id": "fdd356fd",
   "metadata": {},
   "source": [
    "Normalización con MinMaxScaler :"
   ]
  },
  {
   "cell_type": "code",
   "execution_count": 86,
   "id": "5e4c38c5",
   "metadata": {},
   "outputs": [
    {
     "data": {
      "text/plain": [
       "MinMaxScaler()"
      ]
     },
     "execution_count": 86,
     "metadata": {},
     "output_type": "execute_result"
    }
   ],
   "source": [
    "scaler_minmax_CV=MinMaxScaler().fit(Housing[['TAX','AGE','NOX','INDUS','RAD_9']])\n",
    "scaler_minmax_CV"
   ]
  },
  {
   "cell_type": "code",
   "execution_count": 87,
   "id": "9fcb9fd8",
   "metadata": {},
   "outputs": [],
   "source": [
    "X[['TAX_NORM','AGE_NORM','NOX_NORM','INDUS_NORM','RAD_NORM']]=scaler_minmax_CV.transform(Housing\n",
    "                                                                                     [['TAX','AGE','NOX','INDUS','RAD_9']])"
   ]
  },
  {
   "cell_type": "markdown",
   "id": "300aaf67",
   "metadata": {},
   "source": [
    "Normalización con Robust :"
   ]
  },
  {
   "cell_type": "code",
   "execution_count": 88,
   "id": "db99e6ef",
   "metadata": {},
   "outputs": [
    {
     "data": {
      "text/plain": [
       "RobustScaler()"
      ]
     },
     "execution_count": 88,
     "metadata": {},
     "output_type": "execute_result"
    }
   ],
   "source": [
    "scaler_robust_CV=RobustScaler().fit(Housing[['CRIM','ZN','RM','DIS','PTRATIO','B','LSTAT']])\n",
    "scaler_robust_CV"
   ]
  },
  {
   "cell_type": "code",
   "execution_count": 89,
   "id": "96a053c8",
   "metadata": {},
   "outputs": [],
   "source": [
    "X[['CRIM_R','ZN_R','RM_R','DIS_R','PTRATIO_R','B_R','LSTAT_R']]=scaler_robust_CV.transform(Housing\n",
    "                                                                                       [['CRIM','ZN','RM','DIS','PTRATIO','B','LSTAT']])"
   ]
  },
  {
   "cell_type": "code",
   "execution_count": 90,
   "id": "8e03898f",
   "metadata": {},
   "outputs": [],
   "source": [
    "X['CHAS']=Housing['CHAS']"
   ]
  },
  {
   "cell_type": "code",
   "execution_count": 91,
   "id": "37a2ae95",
   "metadata": {},
   "outputs": [
    {
     "data": {
      "text/plain": [
       "(506, 13)"
      ]
     },
     "execution_count": 91,
     "metadata": {},
     "output_type": "execute_result"
    }
   ],
   "source": [
    "X.shape"
   ]
  },
  {
   "cell_type": "code",
   "execution_count": 92,
   "id": "8e97993e",
   "metadata": {
    "scrolled": false
   },
   "outputs": [
    {
     "data": {
      "text/html": [
       "<div>\n",
       "<style scoped>\n",
       "    .dataframe tbody tr th:only-of-type {\n",
       "        vertical-align: middle;\n",
       "    }\n",
       "\n",
       "    .dataframe tbody tr th {\n",
       "        vertical-align: top;\n",
       "    }\n",
       "\n",
       "    .dataframe thead th {\n",
       "        text-align: right;\n",
       "    }\n",
       "</style>\n",
       "<table border=\"1\" class=\"dataframe\">\n",
       "  <thead>\n",
       "    <tr style=\"text-align: right;\">\n",
       "      <th></th>\n",
       "      <th>TAX_NORM</th>\n",
       "      <th>AGE_NORM</th>\n",
       "      <th>NOX_NORM</th>\n",
       "      <th>INDUS_NORM</th>\n",
       "      <th>RAD_NORM</th>\n",
       "      <th>CRIM_R</th>\n",
       "      <th>ZN_R</th>\n",
       "      <th>RM_R</th>\n",
       "      <th>DIS_R</th>\n",
       "      <th>PTRATIO_R</th>\n",
       "      <th>B_R</th>\n",
       "      <th>LSTAT_R</th>\n",
       "      <th>CHAS</th>\n",
       "    </tr>\n",
       "  </thead>\n",
       "  <tbody>\n",
       "    <tr>\n",
       "      <th>0</th>\n",
       "      <td>0.208015</td>\n",
       "      <td>0.641607</td>\n",
       "      <td>0.314815</td>\n",
       "      <td>0.067815</td>\n",
       "      <td>0.000000</td>\n",
       "      <td>-0.069593</td>\n",
       "      <td>1.44</td>\n",
       "      <td>0.496612</td>\n",
       "      <td>0.285777</td>\n",
       "      <td>-1.339286</td>\n",
       "      <td>0.261902</td>\n",
       "      <td>-0.637681</td>\n",
       "      <td>0</td>\n",
       "    </tr>\n",
       "    <tr>\n",
       "      <th>1</th>\n",
       "      <td>0.104962</td>\n",
       "      <td>0.782698</td>\n",
       "      <td>0.172840</td>\n",
       "      <td>0.242302</td>\n",
       "      <td>0.043478</td>\n",
       "      <td>-0.063755</td>\n",
       "      <td>0.00</td>\n",
       "      <td>0.287940</td>\n",
       "      <td>0.569789</td>\n",
       "      <td>-0.446429</td>\n",
       "      <td>0.261902</td>\n",
       "      <td>-0.221889</td>\n",
       "      <td>0</td>\n",
       "    </tr>\n",
       "    <tr>\n",
       "      <th>2</th>\n",
       "      <td>0.104962</td>\n",
       "      <td>0.599382</td>\n",
       "      <td>0.172840</td>\n",
       "      <td>0.242302</td>\n",
       "      <td>0.043478</td>\n",
       "      <td>-0.063760</td>\n",
       "      <td>0.00</td>\n",
       "      <td>1.323171</td>\n",
       "      <td>0.569789</td>\n",
       "      <td>-0.446429</td>\n",
       "      <td>0.066675</td>\n",
       "      <td>-0.732634</td>\n",
       "      <td>0</td>\n",
       "    </tr>\n",
       "    <tr>\n",
       "      <th>3</th>\n",
       "      <td>0.066794</td>\n",
       "      <td>0.441813</td>\n",
       "      <td>0.150206</td>\n",
       "      <td>0.063050</td>\n",
       "      <td>0.086957</td>\n",
       "      <td>-0.062347</td>\n",
       "      <td>0.00</td>\n",
       "      <td>1.069783</td>\n",
       "      <td>0.924391</td>\n",
       "      <td>-0.125000</td>\n",
       "      <td>0.153016</td>\n",
       "      <td>-0.841579</td>\n",
       "      <td>0</td>\n",
       "    </tr>\n",
       "    <tr>\n",
       "      <th>4</th>\n",
       "      <td>0.066794</td>\n",
       "      <td>0.528321</td>\n",
       "      <td>0.150206</td>\n",
       "      <td>0.063050</td>\n",
       "      <td>0.086957</td>\n",
       "      <td>-0.052144</td>\n",
       "      <td>0.00</td>\n",
       "      <td>1.271680</td>\n",
       "      <td>0.924391</td>\n",
       "      <td>-0.125000</td>\n",
       "      <td>0.261902</td>\n",
       "      <td>-0.602699</td>\n",
       "      <td>0</td>\n",
       "    </tr>\n",
       "  </tbody>\n",
       "</table>\n",
       "</div>"
      ],
      "text/plain": [
       "   TAX_NORM  AGE_NORM  NOX_NORM  INDUS_NORM  RAD_NORM    CRIM_R  ZN_R  \\\n",
       "0  0.208015  0.641607  0.314815    0.067815  0.000000 -0.069593  1.44   \n",
       "1  0.104962  0.782698  0.172840    0.242302  0.043478 -0.063755  0.00   \n",
       "2  0.104962  0.599382  0.172840    0.242302  0.043478 -0.063760  0.00   \n",
       "3  0.066794  0.441813  0.150206    0.063050  0.086957 -0.062347  0.00   \n",
       "4  0.066794  0.528321  0.150206    0.063050  0.086957 -0.052144  0.00   \n",
       "\n",
       "       RM_R     DIS_R  PTRATIO_R       B_R   LSTAT_R  CHAS  \n",
       "0  0.496612  0.285777  -1.339286  0.261902 -0.637681     0  \n",
       "1  0.287940  0.569789  -0.446429  0.261902 -0.221889     0  \n",
       "2  1.323171  0.569789  -0.446429  0.066675 -0.732634     0  \n",
       "3  1.069783  0.924391  -0.125000  0.153016 -0.841579     0  \n",
       "4  1.271680  0.924391  -0.125000  0.261902 -0.602699     0  "
      ]
     },
     "execution_count": 92,
     "metadata": {},
     "output_type": "execute_result"
    }
   ],
   "source": [
    "X.head()"
   ]
  },
  {
   "cell_type": "code",
   "execution_count": 93,
   "id": "1beb275a",
   "metadata": {
    "scrolled": true
   },
   "outputs": [
    {
     "data": {
      "text/html": [
       "<div>\n",
       "<style scoped>\n",
       "    .dataframe tbody tr th:only-of-type {\n",
       "        vertical-align: middle;\n",
       "    }\n",
       "\n",
       "    .dataframe tbody tr th {\n",
       "        vertical-align: top;\n",
       "    }\n",
       "\n",
       "    .dataframe thead th {\n",
       "        text-align: right;\n",
       "    }\n",
       "</style>\n",
       "<table border=\"1\" class=\"dataframe\">\n",
       "  <thead>\n",
       "    <tr style=\"text-align: right;\">\n",
       "      <th></th>\n",
       "      <th>TAX_NORM</th>\n",
       "      <th>AGE_NORM</th>\n",
       "      <th>NOX_NORM</th>\n",
       "      <th>INDUS_NORM</th>\n",
       "      <th>RAD_NORM</th>\n",
       "      <th>CRIM_R</th>\n",
       "      <th>ZN_R</th>\n",
       "      <th>RM_R</th>\n",
       "      <th>DIS_R</th>\n",
       "      <th>PTRATIO_R</th>\n",
       "      <th>B_R</th>\n",
       "      <th>LSTAT_R</th>\n",
       "      <th>CHAS</th>\n",
       "    </tr>\n",
       "  </thead>\n",
       "  <tbody>\n",
       "    <tr>\n",
       "      <th>count</th>\n",
       "      <td>506.00</td>\n",
       "      <td>506.00</td>\n",
       "      <td>506.00</td>\n",
       "      <td>506.00</td>\n",
       "      <td>506.00</td>\n",
       "      <td>506.00</td>\n",
       "      <td>506.00</td>\n",
       "      <td>506.00</td>\n",
       "      <td>506.00</td>\n",
       "      <td>506.00</td>\n",
       "      <td>506.00</td>\n",
       "      <td>506.00</td>\n",
       "      <td>506.00</td>\n",
       "    </tr>\n",
       "    <tr>\n",
       "      <th>mean</th>\n",
       "      <td>0.42</td>\n",
       "      <td>0.68</td>\n",
       "      <td>0.35</td>\n",
       "      <td>0.39</td>\n",
       "      <td>0.37</td>\n",
       "      <td>0.93</td>\n",
       "      <td>0.91</td>\n",
       "      <td>0.10</td>\n",
       "      <td>0.19</td>\n",
       "      <td>-0.21</td>\n",
       "      <td>-1.67</td>\n",
       "      <td>0.13</td>\n",
       "      <td>0.07</td>\n",
       "    </tr>\n",
       "    <tr>\n",
       "      <th>std</th>\n",
       "      <td>0.32</td>\n",
       "      <td>0.29</td>\n",
       "      <td>0.24</td>\n",
       "      <td>0.25</td>\n",
       "      <td>0.38</td>\n",
       "      <td>2.39</td>\n",
       "      <td>1.87</td>\n",
       "      <td>0.95</td>\n",
       "      <td>0.68</td>\n",
       "      <td>0.77</td>\n",
       "      <td>4.38</td>\n",
       "      <td>0.71</td>\n",
       "      <td>0.25</td>\n",
       "    </tr>\n",
       "    <tr>\n",
       "      <th>min</th>\n",
       "      <td>0.00</td>\n",
       "      <td>0.00</td>\n",
       "      <td>0.00</td>\n",
       "      <td>0.00</td>\n",
       "      <td>0.00</td>\n",
       "      <td>-0.07</td>\n",
       "      <td>0.00</td>\n",
       "      <td>-3.59</td>\n",
       "      <td>-0.67</td>\n",
       "      <td>-2.30</td>\n",
       "      <td>-18.76</td>\n",
       "      <td>-0.96</td>\n",
       "      <td>0.00</td>\n",
       "    </tr>\n",
       "    <tr>\n",
       "      <th>25%</th>\n",
       "      <td>0.18</td>\n",
       "      <td>0.43</td>\n",
       "      <td>0.13</td>\n",
       "      <td>0.17</td>\n",
       "      <td>0.13</td>\n",
       "      <td>-0.05</td>\n",
       "      <td>0.00</td>\n",
       "      <td>-0.44</td>\n",
       "      <td>-0.36</td>\n",
       "      <td>-0.59</td>\n",
       "      <td>-0.77</td>\n",
       "      <td>-0.44</td>\n",
       "      <td>0.00</td>\n",
       "    </tr>\n",
       "    <tr>\n",
       "      <th>50%</th>\n",
       "      <td>0.27</td>\n",
       "      <td>0.77</td>\n",
       "      <td>0.31</td>\n",
       "      <td>0.34</td>\n",
       "      <td>0.17</td>\n",
       "      <td>-0.00</td>\n",
       "      <td>0.00</td>\n",
       "      <td>0.00</td>\n",
       "      <td>0.00</td>\n",
       "      <td>0.00</td>\n",
       "      <td>0.00</td>\n",
       "      <td>0.00</td>\n",
       "      <td>0.00</td>\n",
       "    </tr>\n",
       "    <tr>\n",
       "      <th>75%</th>\n",
       "      <td>0.91</td>\n",
       "      <td>0.94</td>\n",
       "      <td>0.49</td>\n",
       "      <td>0.65</td>\n",
       "      <td>1.00</td>\n",
       "      <td>0.95</td>\n",
       "      <td>1.00</td>\n",
       "      <td>0.56</td>\n",
       "      <td>0.64</td>\n",
       "      <td>0.41</td>\n",
       "      <td>0.23</td>\n",
       "      <td>0.56</td>\n",
       "      <td>0.00</td>\n",
       "    </tr>\n",
       "    <tr>\n",
       "      <th>max</th>\n",
       "      <td>1.00</td>\n",
       "      <td>1.00</td>\n",
       "      <td>1.00</td>\n",
       "      <td>1.00</td>\n",
       "      <td>1.00</td>\n",
       "      <td>24.68</td>\n",
       "      <td>8.00</td>\n",
       "      <td>3.48</td>\n",
       "      <td>2.89</td>\n",
       "      <td>1.05</td>\n",
       "      <td>0.26</td>\n",
       "      <td>2.66</td>\n",
       "      <td>1.00</td>\n",
       "    </tr>\n",
       "  </tbody>\n",
       "</table>\n",
       "</div>"
      ],
      "text/plain": [
       "       TAX_NORM  AGE_NORM  NOX_NORM  INDUS_NORM  RAD_NORM  CRIM_R    ZN_R  \\\n",
       "count    506.00    506.00    506.00      506.00    506.00  506.00  506.00   \n",
       "mean       0.42      0.68      0.35        0.39      0.37    0.93    0.91   \n",
       "std        0.32      0.29      0.24        0.25      0.38    2.39    1.87   \n",
       "min        0.00      0.00      0.00        0.00      0.00   -0.07    0.00   \n",
       "25%        0.18      0.43      0.13        0.17      0.13   -0.05    0.00   \n",
       "50%        0.27      0.77      0.31        0.34      0.17   -0.00    0.00   \n",
       "75%        0.91      0.94      0.49        0.65      1.00    0.95    1.00   \n",
       "max        1.00      1.00      1.00        1.00      1.00   24.68    8.00   \n",
       "\n",
       "         RM_R   DIS_R  PTRATIO_R     B_R  LSTAT_R    CHAS  \n",
       "count  506.00  506.00     506.00  506.00   506.00  506.00  \n",
       "mean     0.10    0.19      -0.21   -1.67     0.13    0.07  \n",
       "std      0.95    0.68       0.77    4.38     0.71    0.25  \n",
       "min     -3.59   -0.67      -2.30  -18.76    -0.96    0.00  \n",
       "25%     -0.44   -0.36      -0.59   -0.77    -0.44    0.00  \n",
       "50%      0.00    0.00       0.00    0.00     0.00    0.00  \n",
       "75%      0.56    0.64       0.41    0.23     0.56    0.00  \n",
       "max      3.48    2.89       1.05    0.26     2.66    1.00  "
      ]
     },
     "execution_count": 93,
     "metadata": {},
     "output_type": "execute_result"
    }
   ],
   "source": [
    "round(X.describe(),2)"
   ]
  },
  {
   "cell_type": "code",
   "execution_count": 95,
   "id": "ee1394e2",
   "metadata": {},
   "outputs": [],
   "source": [
    "y=Housing['MEDV']"
   ]
  },
  {
   "cell_type": "markdown",
   "id": "56353c90",
   "metadata": {},
   "source": [
    "El conjunto de las 13 variables independientes es X, la variables target y."
   ]
  },
  {
   "cell_type": "markdown",
   "id": "43a6248d",
   "metadata": {},
   "source": [
    "## K-fold Cross Validation"
   ]
  },
  {
   "cell_type": "markdown",
   "id": "9adbcc23",
   "metadata": {},
   "source": [
    "## Regresión Linear Multiple"
   ]
  },
  {
   "cell_type": "code",
   "execution_count": 96,
   "id": "97fdd058",
   "metadata": {},
   "outputs": [],
   "source": [
    "from sklearn.model_selection import KFold"
   ]
  },
  {
   "cell_type": "code",
   "execution_count": 101,
   "id": "6f526653",
   "metadata": {},
   "outputs": [],
   "source": [
    "modelo = LinearRegression()\n",
    "kfold_validacion = KFold(5)"
   ]
  },
  {
   "cell_type": "markdown",
   "id": "dfdd0bbe",
   "metadata": {},
   "source": [
    "### R2"
   ]
  },
  {
   "cell_type": "code",
   "execution_count": 102,
   "id": "08a2754b",
   "metadata": {},
   "outputs": [
    {
     "name": "stdout",
     "output_type": "stream",
     "text": [
      "Metricas cross_validation [ 0.63919994  0.71386698  0.58702344  0.07923081 -0.25294154]\n",
      "Media de cross_validation 0.35\n"
     ]
    }
   ],
   "source": [
    "scores = cross_val_score(modelo, X, y, cv = kfold_validacion)\n",
    "print(\"Metricas cross_validation\", scores)\n",
    "print(\"Media de cross_validation\", round(scores.mean(),2)) "
   ]
  },
  {
   "cell_type": "markdown",
   "id": "19537606",
   "metadata": {},
   "source": [
    "### MSE"
   ]
  },
  {
   "cell_type": "code",
   "execution_count": 103,
   "id": "d9cf48cd",
   "metadata": {},
   "outputs": [
    {
     "name": "stdout",
     "output_type": "stream",
     "text": [
      "Metricas cross_validation [12.46030057 26.04862111 33.07413798 80.76237112 33.31360656]\n",
      "Media de cross_validation 37.13\n"
     ]
    }
   ],
   "source": [
    "scores = -cross_val_score(modelo, X, y, cv = kfold_validacion,scoring='neg_mean_squared_error')\n",
    "print(\"Metricas cross_validation\", scores)\n",
    "print(\"Media de cross_validation\", round(scores.mean(),2)) "
   ]
  },
  {
   "cell_type": "markdown",
   "id": "043f46f2",
   "metadata": {},
   "source": [
    "## Arbol de decisión (parameters)"
   ]
  },
  {
   "cell_type": "code",
   "execution_count": 104,
   "id": "33970eb6",
   "metadata": {},
   "outputs": [],
   "source": [
    "modelo_params = DecisionTreeRegressor(max_depth=4,max_features='auto',\n",
    "    max_leaf_nodes=None,min_samples_leaf=4,min_samples_split=2,min_weight_fraction_leaf=0.1,splitter='best')\n",
    "kfold_validacion = KFold(5)"
   ]
  },
  {
   "cell_type": "markdown",
   "id": "70856e19",
   "metadata": {},
   "source": [
    "### R2"
   ]
  },
  {
   "cell_type": "code",
   "execution_count": 105,
   "id": "42c98853",
   "metadata": {
    "scrolled": true
   },
   "outputs": [
    {
     "name": "stdout",
     "output_type": "stream",
     "text": [
      "Metricas cross_validation [ 0.67164574  0.72675097  0.54796169  0.37169567 -0.69075037]\n",
      "Media de cross_validation 0.33\n"
     ]
    }
   ],
   "source": [
    "scores = cross_val_score(modelo_params, X, y, cv = kfold_validacion)\n",
    "print(\"Metricas cross_validation\", scores)\n",
    "print(\"Media de cross_validation\", round(scores.mean(),2)) "
   ]
  },
  {
   "cell_type": "markdown",
   "id": "0e3c94f8",
   "metadata": {},
   "source": [
    "### MSE"
   ]
  },
  {
   "cell_type": "code",
   "execution_count": 106,
   "id": "87f41468",
   "metadata": {},
   "outputs": [
    {
     "name": "stdout",
     "output_type": "stream",
     "text": [
      "Metricas cross_validation [11.33977851 24.87570436 36.20248396 55.10973646 44.95420658]\n",
      "Media de cross_validation 34.5\n"
     ]
    }
   ],
   "source": [
    "scores = -cross_val_score(modelo_params, X, y, cv = kfold_validacion,scoring='neg_mean_squared_error')\n",
    "print(\"Metricas cross_validation\", scores)\n",
    "print(\"Media de cross_validation\", round(scores.mean(),2)) "
   ]
  },
  {
   "cell_type": "markdown",
   "id": "f8829b35",
   "metadata": {},
   "source": [
    "## Arbol de decisión (alpha)"
   ]
  },
  {
   "cell_type": "code",
   "execution_count": 116,
   "id": "48679e77",
   "metadata": {},
   "outputs": [],
   "source": [
    "modelo_alpha = DecisionTreeRegressor(ccp_alpha=2)\n",
    "kfold_validacion = KFold(5)"
   ]
  },
  {
   "cell_type": "markdown",
   "id": "d6925d6a",
   "metadata": {},
   "source": [
    "### R2"
   ]
  },
  {
   "cell_type": "code",
   "execution_count": 117,
   "id": "ac4ae430",
   "metadata": {},
   "outputs": [
    {
     "name": "stdout",
     "output_type": "stream",
     "text": [
      "Metricas cross_validation [ 0.68352104  0.7547808   0.44276909  0.31130051 -0.44254403]\n",
      "Media de cross_validation 0.35\n"
     ]
    }
   ],
   "source": [
    "scores = cross_val_score(modelo_alpha, X, y, cv = kfold_validacion)\n",
    "print(\"Metricas cross_validation\", scores)\n",
    "print(\"Media de cross_validation\", round(scores.mean(),2)) "
   ]
  },
  {
   "cell_type": "markdown",
   "id": "bc4531f1",
   "metadata": {},
   "source": [
    "### MSE"
   ]
  },
  {
   "cell_type": "code",
   "execution_count": 118,
   "id": "cef3dc77",
   "metadata": {},
   "outputs": [
    {
     "name": "stdout",
     "output_type": "stream",
     "text": [
      "Metricas cross_validation [10.92966273 22.32395992 45.82072847 60.40710801 42.81135374]\n",
      "Media de cross_validation 36.46\n"
     ]
    }
   ],
   "source": [
    "scores = -cross_val_score(modelo_alpha, X, y, cv = kfold_validacion,scoring='neg_mean_squared_error')\n",
    "print(\"Metricas cross_validation\", scores)\n",
    "print(\"Media de cross_validation\", round(scores.mean(),2)) "
   ]
  },
  {
   "cell_type": "markdown",
   "id": "c3ebbe7f",
   "metadata": {},
   "source": [
    "Vemos que los resultados obtenidos con el método de Cross Validation son peores que con el método train-test, los tres modelos son peores de lo que se podía pensar y dan con este método resultados muy similares."
   ]
  },
  {
   "cell_type": "code",
   "execution_count": null,
   "id": "a0f5ca47",
   "metadata": {},
   "outputs": [],
   "source": []
  },
  {
   "cell_type": "markdown",
   "id": "391493d8",
   "metadata": {},
   "source": [
    "## EXERCICI 5"
   ]
  },
  {
   "cell_type": "markdown",
   "id": "ad032a24",
   "metadata": {},
   "source": [
    "Quitamos la variable RM de todos los conjuntos de análisis :"
   ]
  },
  {
   "cell_type": "code",
   "execution_count": 119,
   "id": "39ba9603",
   "metadata": {},
   "outputs": [],
   "source": [
    "X_train_RM=X_train.drop('RM_R',axis='columns')"
   ]
  },
  {
   "cell_type": "code",
   "execution_count": 120,
   "id": "85960b0d",
   "metadata": {},
   "outputs": [],
   "source": [
    "X_test_RM=X_test.drop('RM_R',axis='columns')"
   ]
  },
  {
   "cell_type": "code",
   "execution_count": 121,
   "id": "ce3decbf",
   "metadata": {},
   "outputs": [],
   "source": [
    "X_RM=X.drop('RM_R',axis='columns')"
   ]
  },
  {
   "cell_type": "code",
   "execution_count": null,
   "id": "abf86756",
   "metadata": {},
   "outputs": [],
   "source": []
  },
  {
   "cell_type": "markdown",
   "id": "89fd2cde",
   "metadata": {},
   "source": [
    "Hacemos el fit de los modelos creados anteriormente con los nuevos datos sin la variable RM :"
   ]
  },
  {
   "cell_type": "markdown",
   "id": "3b93bda7",
   "metadata": {},
   "source": [
    "### Regresión Lineal Múltiple"
   ]
  },
  {
   "cell_type": "code",
   "execution_count": 123,
   "id": "21a50273",
   "metadata": {
    "scrolled": true
   },
   "outputs": [
    {
     "data": {
      "text/plain": [
       "LinearRegression()"
      ]
     },
     "execution_count": 123,
     "metadata": {},
     "output_type": "execute_result"
    }
   ],
   "source": [
    "modelo_mlr.fit(X_train_RM, y_train)"
   ]
  },
  {
   "cell_type": "markdown",
   "id": "654db760",
   "metadata": {},
   "source": [
    "### R2"
   ]
  },
  {
   "cell_type": "code",
   "execution_count": 124,
   "id": "f0606df1",
   "metadata": {},
   "outputs": [
    {
     "name": "stdout",
     "output_type": "stream",
     "text": [
      "Metrica del modelo 0.69\n",
      "Metrica en test 0.68\n"
     ]
    }
   ],
   "source": [
    "score =round(modelo_mlr.score(X_train_RM,y_train),2)\n",
    "print('Metrica del modelo', score)\n",
    "score_pred = round(modelo_mlr.score(X_test_RM,y_test),2)\n",
    "print('Metrica en test', score_pred)"
   ]
  },
  {
   "cell_type": "markdown",
   "id": "e3c1f10a",
   "metadata": {},
   "source": [
    "### MSE"
   ]
  },
  {
   "cell_type": "code",
   "execution_count": 125,
   "id": "3731ec94",
   "metadata": {},
   "outputs": [
    {
     "name": "stdout",
     "output_type": "stream",
     "text": [
      "Metrica del modelo 25.08\n",
      "Metrica en test 32.07\n"
     ]
    }
   ],
   "source": [
    "score =round(mean_squared_error(y_train, modelo_mlr.predict(X_train_RM)),2)\n",
    "print('Metrica del modelo', score)\n",
    "score_pred =round(mean_squared_error(y_test, modelo_mlr.predict(X_test_RM)),2)\n",
    "print('Metrica en test', score_pred)"
   ]
  },
  {
   "cell_type": "markdown",
   "id": "47b78d99",
   "metadata": {},
   "source": [
    "Los resultados empeoran sustancialmente, es lógico ya que el coeficiente de la variable MR era de los más elevados en el modelo original. Aplicamos el método de Cross Validation :"
   ]
  },
  {
   "cell_type": "markdown",
   "id": "728e1787",
   "metadata": {},
   "source": [
    "### R2"
   ]
  },
  {
   "cell_type": "code",
   "execution_count": 126,
   "id": "b8204d20",
   "metadata": {
    "scrolled": true
   },
   "outputs": [
    {
     "name": "stdout",
     "output_type": "stream",
     "text": [
      "Metricas cross_validation [0.46450601 0.61522064 0.43616681 0.57879898 0.37296639]\n",
      "Media de cross_validation 0.49\n"
     ]
    }
   ],
   "source": [
    "scores = cross_val_score(modelo, X_RM, y, cv = kfold_validacion)\n",
    "print(\"Metricas cross_validation\", scores)\n",
    "print(\"Media de cross_validation\", round(scores.mean(),2)) "
   ]
  },
  {
   "cell_type": "markdown",
   "id": "771dcf48",
   "metadata": {},
   "source": [
    "### MSE"
   ]
  },
  {
   "cell_type": "code",
   "execution_count": 128,
   "id": "9c6c9c51",
   "metadata": {
    "scrolled": true
   },
   "outputs": [
    {
     "name": "stdout",
     "output_type": "stream",
     "text": [
      "Metricas cross_validation [18.49338953 35.02906394 45.15582318 36.94432119 16.67176834]\n",
      "Media de cross_validation 30.46\n"
     ]
    }
   ],
   "source": [
    "scores = -cross_val_score(modelo, X_RM, y, cv = kfold_validacion,scoring='neg_mean_squared_error')\n",
    "print(\"Metricas cross_validation\", scores)\n",
    "print(\"Media de cross_validation\", round(scores.mean(),2)) "
   ]
  },
  {
   "cell_type": "markdown",
   "id": "30388ea6",
   "metadata": {},
   "source": [
    "En cambio con el Cross Validation los resultados mejoran."
   ]
  },
  {
   "cell_type": "markdown",
   "id": "6a7da92d",
   "metadata": {},
   "source": [
    "### Arbol de decisión (parameters)"
   ]
  },
  {
   "cell_type": "code",
   "execution_count": 129,
   "id": "ca73b3dd",
   "metadata": {},
   "outputs": [
    {
     "data": {
      "text/plain": [
       "DecisionTreeRegressor(max_depth=4, max_features='auto', min_samples_leaf=4,\n",
       "                      min_weight_fraction_leaf=0.1)"
      ]
     },
     "execution_count": 129,
     "metadata": {},
     "output_type": "execute_result"
    }
   ],
   "source": [
    "modelo_tree_params.fit(X_train_RM,y_train)"
   ]
  },
  {
   "cell_type": "markdown",
   "id": "416c3b4c",
   "metadata": {},
   "source": [
    "### R2"
   ]
  },
  {
   "cell_type": "code",
   "execution_count": 130,
   "id": "2bd8944f",
   "metadata": {
    "scrolled": true
   },
   "outputs": [
    {
     "name": "stdout",
     "output_type": "stream",
     "text": [
      "Metrica del modelo 0.71\n",
      "Metrica en test 0.66\n"
     ]
    }
   ],
   "source": [
    "score =round(modelo_tree_params.score(X_train_RM,y_train),2)\n",
    "print('Metrica del modelo', score)\n",
    "score_pred = round(modelo_tree_params.score(X_test_RM,y_test),2)\n",
    "print('Metrica en test', score_pred)"
   ]
  },
  {
   "cell_type": "markdown",
   "id": "02c0e163",
   "metadata": {},
   "source": [
    "### MSE"
   ]
  },
  {
   "cell_type": "code",
   "execution_count": 132,
   "id": "cdf2c752",
   "metadata": {
    "scrolled": false
   },
   "outputs": [
    {
     "name": "stdout",
     "output_type": "stream",
     "text": [
      "Metrica del modelo 23.52\n",
      "Metrica en test 34.04\n"
     ]
    }
   ],
   "source": [
    "score =round(mean_squared_error(y_train, modelo_tree_params.predict(X_train_RM)),2)\n",
    "print('Metrica del modelo', score)\n",
    "score_pred =round(mean_squared_error(y_test, modelo_tree_params.predict(X_test_RM)),2)\n",
    "print('Metrica en test', score_pred)"
   ]
  },
  {
   "cell_type": "markdown",
   "id": "798a68c1",
   "metadata": {},
   "source": [
    "Con método Cross Validation :"
   ]
  },
  {
   "cell_type": "code",
   "execution_count": 133,
   "id": "5456104a",
   "metadata": {},
   "outputs": [
    {
     "name": "stdout",
     "output_type": "stream",
     "text": [
      "Metricas cross_validation [0.45055213 0.68119079 0.3534241  0.47908526 0.0953378 ]\n",
      "Media de cross_validation 0.41\n"
     ]
    }
   ],
   "source": [
    "scores = cross_val_score(modelo_params, X_RM, y, cv = kfold_validacion)\n",
    "print(\"Metricas cross_validation\", scores)\n",
    "print(\"Media de cross_validation\", round(scores.mean(),2)) "
   ]
  },
  {
   "cell_type": "code",
   "execution_count": 134,
   "id": "6a45fb9c",
   "metadata": {
    "scrolled": true
   },
   "outputs": [
    {
     "name": "stdout",
     "output_type": "stream",
     "text": [
      "Metricas cross_validation [18.97528928 29.02335574 51.78245587 45.69039676 24.05344508]\n",
      "Media de cross_validation 33.9\n"
     ]
    }
   ],
   "source": [
    "scores = -cross_val_score(modelo_params, X_RM, y, cv = kfold_validacion,scoring='neg_mean_squared_error')\n",
    "print(\"Metricas cross_validation\", scores)\n",
    "print(\"Media de cross_validation\", round(scores.mean(),2)) "
   ]
  },
  {
   "cell_type": "markdown",
   "id": "45c6525c",
   "metadata": {},
   "source": [
    "Este modelo no empeora tanto por el hechode quitar la variable MR, lo cual tiene lógica considerando que modelo no le había dado importancia a esta variable en un primer momento."
   ]
  },
  {
   "cell_type": "markdown",
   "id": "175f2f64",
   "metadata": {},
   "source": [
    "### Arbol de decisión (alpha)"
   ]
  },
  {
   "cell_type": "code",
   "execution_count": 136,
   "id": "dbcba211",
   "metadata": {},
   "outputs": [
    {
     "data": {
      "text/plain": [
       "DecisionTreeRegressor(ccp_alpha=2)"
      ]
     },
     "execution_count": 136,
     "metadata": {},
     "output_type": "execute_result"
    }
   ],
   "source": [
    "modelo_tree_alpha.fit(X_train_RM,y_train)"
   ]
  },
  {
   "cell_type": "markdown",
   "id": "25ab6b08",
   "metadata": {},
   "source": [
    "### R2"
   ]
  },
  {
   "cell_type": "code",
   "execution_count": 137,
   "id": "3f260d1c",
   "metadata": {},
   "outputs": [
    {
     "name": "stdout",
     "output_type": "stream",
     "text": [
      "Metrica del modelo 0.72\n",
      "Metrica en test 0.61\n"
     ]
    }
   ],
   "source": [
    "score =round(modelo_tree_alpha.score(X_train_RM,y_train),2)\n",
    "print('Metrica del modelo', score)\n",
    "score_pred = round(modelo_tree_alpha.score(X_test_RM,y_test),2)\n",
    "print('Metrica en test', score_pred)"
   ]
  },
  {
   "cell_type": "markdown",
   "id": "68139fc6",
   "metadata": {},
   "source": [
    "### MSE"
   ]
  },
  {
   "cell_type": "code",
   "execution_count": 138,
   "id": "a0a2f263",
   "metadata": {
    "scrolled": true
   },
   "outputs": [
    {
     "name": "stdout",
     "output_type": "stream",
     "text": [
      "Metrica del modelo 22.63\n",
      "Metrica en test 38.61\n"
     ]
    }
   ],
   "source": [
    "score =round(mean_squared_error(y_train, modelo_tree_alpha.predict(X_train_RM)),2)\n",
    "print('Metrica del modelo', score)\n",
    "score_pred =round(mean_squared_error(y_test, modelo_tree_alpha.predict(X_test_RM)),2)\n",
    "print('Metrica en test', score_pred)"
   ]
  },
  {
   "cell_type": "markdown",
   "id": "8628ece9",
   "metadata": {},
   "source": [
    "Este modelo empeora más, lo cual es lógico considerando que la variable MR era la segunda con más relevancia en el modelo."
   ]
  },
  {
   "cell_type": "markdown",
   "id": "4e920a10",
   "metadata": {},
   "source": [
    "Con Cross Validation :"
   ]
  },
  {
   "cell_type": "code",
   "execution_count": 140,
   "id": "c81f6f63",
   "metadata": {},
   "outputs": [
    {
     "name": "stdout",
     "output_type": "stream",
     "text": [
      "Metricas cross_validation [ 0.49649772  0.59468725  0.17233403  0.48617684 -0.41745888]\n",
      "Media de cross_validation 0.27\n"
     ]
    }
   ],
   "source": [
    "scores = cross_val_score(modelo_alpha, X_RM, y, cv = kfold_validacion)\n",
    "print(\"Metricas cross_validation\", scores)\n",
    "print(\"Media de cross_validation\", round(scores.mean(),2)) "
   ]
  },
  {
   "cell_type": "code",
   "execution_count": 141,
   "id": "2c2c1837",
   "metadata": {},
   "outputs": [
    {
     "name": "stdout",
     "output_type": "stream",
     "text": [
      "Metricas cross_validation [17.38854937 36.8983568  67.47911618 45.06838118 37.68784584]\n",
      "Media de cross_validation 40.9\n"
     ]
    }
   ],
   "source": [
    "scores = -cross_val_score(modelo_alpha, X_RM, y, cv = kfold_validacion,scoring='neg_mean_squared_error')\n",
    "print(\"Metricas cross_validation\", scores)\n",
    "print(\"Media de cross_validation\", round(scores.mean(),2)) "
   ]
  },
  {
   "cell_type": "code",
   "execution_count": null,
   "id": "d5614b7c",
   "metadata": {},
   "outputs": [],
   "source": []
  }
 ],
 "metadata": {
  "kernelspec": {
   "display_name": "Python 3 (ipykernel)",
   "language": "python",
   "name": "python3"
  },
  "language_info": {
   "codemirror_mode": {
    "name": "ipython",
    "version": 3
   },
   "file_extension": ".py",
   "mimetype": "text/x-python",
   "name": "python",
   "nbconvert_exporter": "python",
   "pygments_lexer": "ipython3",
   "version": "3.9.13"
  }
 },
 "nbformat": 4,
 "nbformat_minor": 5
}
